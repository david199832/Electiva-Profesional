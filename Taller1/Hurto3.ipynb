{
 "cells": [
  {
   "cell_type": "markdown",
   "source": [
    "# Introducción a herramientas para Ciencia de Datos - Pandas"
   ],
   "metadata": {}
  },
  {
   "cell_type": "code",
   "execution_count": 17,
   "source": [
    "import datetime \r\n",
    "import numpy as np\r\n",
    "import pandas as pd\r\n",
    "from sodapy import Socrata\r\n",
    "\r\n",
    "client = Socrata(\"www.datos.gov.co\", None)\r\n",
    "\r\n",
    "results = client.get(\"ha6j-pa2r\", limit=200)\r\n",
    "\r\n",
    "# Convert to pandas DataFrame\r\n",
    "datosX = pd.DataFrame.from_records(results)\r\n",
    "\r\n",
    "datos = pd.read_json(\"https://www.datos.gov.co/resource/ha6j-pa2r.json\")\r\n",
    "\r\n",
    "datos.head()\r\n"
   ],
   "outputs": [
    {
     "output_type": "execute_result",
     "data": {
      "text/html": [
       "<div>\n",
       "<style scoped>\n",
       "    .dataframe tbody tr th:only-of-type {\n",
       "        vertical-align: middle;\n",
       "    }\n",
       "\n",
       "    .dataframe tbody tr th {\n",
       "        vertical-align: top;\n",
       "    }\n",
       "\n",
       "    .dataframe thead th {\n",
       "        text-align: right;\n",
       "    }\n",
       "</style>\n",
       "<table border=\"1\" class=\"dataframe\">\n",
       "  <thead>\n",
       "    <tr style=\"text-align: right;\">\n",
       "      <th></th>\n",
       "      <th>departamento</th>\n",
       "      <th>municipio</th>\n",
       "      <th>codigo_dane</th>\n",
       "      <th>armas_medios</th>\n",
       "      <th>fecha_hecho</th>\n",
       "      <th>genero</th>\n",
       "      <th>grupo_etario</th>\n",
       "      <th>tipo_de_hurto</th>\n",
       "      <th>cantidad</th>\n",
       "    </tr>\n",
       "  </thead>\n",
       "  <tbody>\n",
       "    <tr>\n",
       "      <th>0</th>\n",
       "      <td>AMAZONAS</td>\n",
       "      <td>LETICIA (CT)</td>\n",
       "      <td>91001000</td>\n",
       "      <td>CONTUNDENTES</td>\n",
       "      <td>1/01/2010</td>\n",
       "      <td>MASCULINO</td>\n",
       "      <td>ADULTOS</td>\n",
       "      <td>HURTO RESIDENCIAS</td>\n",
       "      <td>1</td>\n",
       "    </tr>\n",
       "    <tr>\n",
       "      <th>1</th>\n",
       "      <td>ANTIOQUIA</td>\n",
       "      <td>PUERTO BERRÍO</td>\n",
       "      <td>5579000</td>\n",
       "      <td>SIN EMPLEO DE ARMAS</td>\n",
       "      <td>1/01/2010</td>\n",
       "      <td>MASCULINO</td>\n",
       "      <td>ADULTOS</td>\n",
       "      <td>HURTO RESIDENCIAS</td>\n",
       "      <td>1</td>\n",
       "    </tr>\n",
       "    <tr>\n",
       "      <th>2</th>\n",
       "      <td>ANTIOQUIA</td>\n",
       "      <td>TURBO</td>\n",
       "      <td>5837000</td>\n",
       "      <td>NO REPORTADO</td>\n",
       "      <td>1/01/2010</td>\n",
       "      <td>FEMENINO</td>\n",
       "      <td>ADULTOS</td>\n",
       "      <td>HURTO RESIDENCIAS</td>\n",
       "      <td>1</td>\n",
       "    </tr>\n",
       "    <tr>\n",
       "      <th>3</th>\n",
       "      <td>ARAUCA</td>\n",
       "      <td>ARAUCA (CT)</td>\n",
       "      <td>81001000</td>\n",
       "      <td>SIN EMPLEO DE ARMAS</td>\n",
       "      <td>1/01/2010</td>\n",
       "      <td>FEMENINO</td>\n",
       "      <td>ADULTOS</td>\n",
       "      <td>HURTO RESIDENCIAS</td>\n",
       "      <td>1</td>\n",
       "    </tr>\n",
       "    <tr>\n",
       "      <th>4</th>\n",
       "      <td>BOLÍVAR</td>\n",
       "      <td>CARTAGENA (CT)</td>\n",
       "      <td>13001000</td>\n",
       "      <td>SIN EMPLEO DE ARMAS</td>\n",
       "      <td>1/01/2010</td>\n",
       "      <td>MASCULINO</td>\n",
       "      <td>ADULTOS</td>\n",
       "      <td>HURTO RESIDENCIAS</td>\n",
       "      <td>1</td>\n",
       "    </tr>\n",
       "  </tbody>\n",
       "</table>\n",
       "</div>"
      ],
      "text/plain": [
       "  departamento       municipio  codigo_dane         armas_medios fecha_hecho  \\\n",
       "0     AMAZONAS    LETICIA (CT)     91001000         CONTUNDENTES   1/01/2010   \n",
       "1    ANTIOQUIA   PUERTO BERRÍO      5579000  SIN EMPLEO DE ARMAS   1/01/2010   \n",
       "2    ANTIOQUIA           TURBO      5837000         NO REPORTADO   1/01/2010   \n",
       "3       ARAUCA     ARAUCA (CT)     81001000  SIN EMPLEO DE ARMAS   1/01/2010   \n",
       "4      BOLÍVAR  CARTAGENA (CT)     13001000  SIN EMPLEO DE ARMAS   1/01/2010   \n",
       "\n",
       "      genero grupo_etario      tipo_de_hurto  cantidad  \n",
       "0  MASCULINO      ADULTOS  HURTO RESIDENCIAS         1  \n",
       "1  MASCULINO      ADULTOS  HURTO RESIDENCIAS         1  \n",
       "2   FEMENINO      ADULTOS  HURTO RESIDENCIAS         1  \n",
       "3   FEMENINO      ADULTOS  HURTO RESIDENCIAS         1  \n",
       "4  MASCULINO      ADULTOS  HURTO RESIDENCIAS         1  "
      ]
     },
     "metadata": {},
     "execution_count": 17
    }
   ],
   "metadata": {}
  },
  {
   "cell_type": "code",
   "execution_count": 18,
   "source": [
    "datos.shape\r\n"
   ],
   "outputs": [
    {
     "output_type": "execute_result",
     "data": {
      "text/plain": [
       "(1000, 9)"
      ]
     },
     "metadata": {},
     "execution_count": 18
    }
   ],
   "metadata": {}
  },
  {
   "cell_type": "code",
   "execution_count": 19,
   "source": [
    "datos.dtypes"
   ],
   "outputs": [
    {
     "output_type": "execute_result",
     "data": {
      "text/plain": [
       "departamento     object\n",
       "municipio        object\n",
       "codigo_dane       int64\n",
       "armas_medios     object\n",
       "fecha_hecho      object\n",
       "genero           object\n",
       "grupo_etario     object\n",
       "tipo_de_hurto    object\n",
       "cantidad          int64\n",
       "dtype: object"
      ]
     },
     "metadata": {},
     "execution_count": 19
    }
   ],
   "metadata": {}
  },
  {
   "cell_type": "code",
   "execution_count": 20,
   "source": [
    "#¿Cuáles han sido los departamentos (TOP 3) más afectados a nivel histórico y en el último año?\r\n",
    "datos1 = datos[['departamento','cantidad']]\r\n",
    "datos1 = (datos1.groupby(['departamento'])\r\n",
    "               .sum(['cantidad'])\r\n",
    "               .sort_values(['cantidad'], ascending=False)\r\n",
    "               .reset_index())\r\n",
    "datos1\r\n",
    "#Podemos ver que los departamentos con mas Homicidios en la historia de estos datos son \r\n",
    "# 1)VALLE           209\r\n",
    "# 2)ANTIOQUIA\t    157    \r\n",
    "# 3)CUNDINAMARCA    105"
   ],
   "outputs": [
    {
     "output_type": "execute_result",
     "data": {
      "text/html": [
       "<div>\n",
       "<style scoped>\n",
       "    .dataframe tbody tr th:only-of-type {\n",
       "        vertical-align: middle;\n",
       "    }\n",
       "\n",
       "    .dataframe tbody tr th {\n",
       "        vertical-align: top;\n",
       "    }\n",
       "\n",
       "    .dataframe thead th {\n",
       "        text-align: right;\n",
       "    }\n",
       "</style>\n",
       "<table border=\"1\" class=\"dataframe\">\n",
       "  <thead>\n",
       "    <tr style=\"text-align: right;\">\n",
       "      <th></th>\n",
       "      <th>departamento</th>\n",
       "      <th>cantidad</th>\n",
       "    </tr>\n",
       "  </thead>\n",
       "  <tbody>\n",
       "    <tr>\n",
       "      <th>0</th>\n",
       "      <td>CUNDINAMARCA</td>\n",
       "      <td>304</td>\n",
       "    </tr>\n",
       "    <tr>\n",
       "      <th>1</th>\n",
       "      <td>VALLE</td>\n",
       "      <td>121</td>\n",
       "    </tr>\n",
       "    <tr>\n",
       "      <th>2</th>\n",
       "      <td>META</td>\n",
       "      <td>72</td>\n",
       "    </tr>\n",
       "    <tr>\n",
       "      <th>3</th>\n",
       "      <td>SANTANDER</td>\n",
       "      <td>67</td>\n",
       "    </tr>\n",
       "    <tr>\n",
       "      <th>4</th>\n",
       "      <td>ANTIOQUIA</td>\n",
       "      <td>38</td>\n",
       "    </tr>\n",
       "    <tr>\n",
       "      <th>5</th>\n",
       "      <td>HUILA</td>\n",
       "      <td>33</td>\n",
       "    </tr>\n",
       "    <tr>\n",
       "      <th>6</th>\n",
       "      <td>BOLÍVAR</td>\n",
       "      <td>28</td>\n",
       "    </tr>\n",
       "    <tr>\n",
       "      <th>7</th>\n",
       "      <td>BOYACÁ</td>\n",
       "      <td>27</td>\n",
       "    </tr>\n",
       "    <tr>\n",
       "      <th>8</th>\n",
       "      <td>CESAR</td>\n",
       "      <td>24</td>\n",
       "    </tr>\n",
       "    <tr>\n",
       "      <th>9</th>\n",
       "      <td>RISARALDA</td>\n",
       "      <td>24</td>\n",
       "    </tr>\n",
       "    <tr>\n",
       "      <th>10</th>\n",
       "      <td>NARIÑO</td>\n",
       "      <td>22</td>\n",
       "    </tr>\n",
       "    <tr>\n",
       "      <th>11</th>\n",
       "      <td>ATLÁNTICO</td>\n",
       "      <td>21</td>\n",
       "    </tr>\n",
       "    <tr>\n",
       "      <th>12</th>\n",
       "      <td>CALDAS</td>\n",
       "      <td>20</td>\n",
       "    </tr>\n",
       "    <tr>\n",
       "      <th>13</th>\n",
       "      <td>SUCRE</td>\n",
       "      <td>20</td>\n",
       "    </tr>\n",
       "    <tr>\n",
       "      <th>14</th>\n",
       "      <td>CAUCA</td>\n",
       "      <td>19</td>\n",
       "    </tr>\n",
       "    <tr>\n",
       "      <th>15</th>\n",
       "      <td>TOLIMA</td>\n",
       "      <td>19</td>\n",
       "    </tr>\n",
       "    <tr>\n",
       "      <th>16</th>\n",
       "      <td>CÓRDOBA</td>\n",
       "      <td>18</td>\n",
       "    </tr>\n",
       "    <tr>\n",
       "      <th>17</th>\n",
       "      <td>GUAJIRA</td>\n",
       "      <td>17</td>\n",
       "    </tr>\n",
       "    <tr>\n",
       "      <th>18</th>\n",
       "      <td>CASANARE</td>\n",
       "      <td>17</td>\n",
       "    </tr>\n",
       "    <tr>\n",
       "      <th>19</th>\n",
       "      <td>MAGDALENA</td>\n",
       "      <td>15</td>\n",
       "    </tr>\n",
       "    <tr>\n",
       "      <th>20</th>\n",
       "      <td>NORTE DE SANTANDER</td>\n",
       "      <td>14</td>\n",
       "    </tr>\n",
       "    <tr>\n",
       "      <th>21</th>\n",
       "      <td>CHOCÓ</td>\n",
       "      <td>13</td>\n",
       "    </tr>\n",
       "    <tr>\n",
       "      <th>22</th>\n",
       "      <td>CAQUETÁ</td>\n",
       "      <td>11</td>\n",
       "    </tr>\n",
       "    <tr>\n",
       "      <th>23</th>\n",
       "      <td>ARAUCA</td>\n",
       "      <td>10</td>\n",
       "    </tr>\n",
       "    <tr>\n",
       "      <th>24</th>\n",
       "      <td>PUTUMAYO</td>\n",
       "      <td>9</td>\n",
       "    </tr>\n",
       "    <tr>\n",
       "      <th>25</th>\n",
       "      <td>QUINDÍO</td>\n",
       "      <td>9</td>\n",
       "    </tr>\n",
       "    <tr>\n",
       "      <th>26</th>\n",
       "      <td>SAN ANDRÉS</td>\n",
       "      <td>8</td>\n",
       "    </tr>\n",
       "    <tr>\n",
       "      <th>27</th>\n",
       "      <td>VAUPÉS</td>\n",
       "      <td>4</td>\n",
       "    </tr>\n",
       "    <tr>\n",
       "      <th>28</th>\n",
       "      <td>AMAZONAS</td>\n",
       "      <td>3</td>\n",
       "    </tr>\n",
       "    <tr>\n",
       "      <th>29</th>\n",
       "      <td>VICHADA</td>\n",
       "      <td>3</td>\n",
       "    </tr>\n",
       "    <tr>\n",
       "      <th>30</th>\n",
       "      <td>GUAINÍA</td>\n",
       "      <td>2</td>\n",
       "    </tr>\n",
       "  </tbody>\n",
       "</table>\n",
       "</div>"
      ],
      "text/plain": [
       "          departamento  cantidad\n",
       "0         CUNDINAMARCA       304\n",
       "1                VALLE       121\n",
       "2                 META        72\n",
       "3            SANTANDER        67\n",
       "4            ANTIOQUIA        38\n",
       "5                HUILA        33\n",
       "6              BOLÍVAR        28\n",
       "7               BOYACÁ        27\n",
       "8                CESAR        24\n",
       "9            RISARALDA        24\n",
       "10              NARIÑO        22\n",
       "11           ATLÁNTICO        21\n",
       "12              CALDAS        20\n",
       "13               SUCRE        20\n",
       "14               CAUCA        19\n",
       "15              TOLIMA        19\n",
       "16             CÓRDOBA        18\n",
       "17             GUAJIRA        17\n",
       "18            CASANARE        17\n",
       "19           MAGDALENA        15\n",
       "20  NORTE DE SANTANDER        14\n",
       "21               CHOCÓ        13\n",
       "22             CAQUETÁ        11\n",
       "23              ARAUCA        10\n",
       "24            PUTUMAYO         9\n",
       "25             QUINDÍO         9\n",
       "26          SAN ANDRÉS         8\n",
       "27              VAUPÉS         4\n",
       "28            AMAZONAS         3\n",
       "29             VICHADA         3\n",
       "30             GUAINÍA         2"
      ]
     },
     "metadata": {},
     "execution_count": 20
    }
   ],
   "metadata": {}
  },
  {
   "cell_type": "code",
   "execution_count": 21,
   "source": [
    "#1. ¿Cuáles han sido los departamentos (TOP 3) más afectados en el último año?\r\n",
    "datos1 = datos[['departamento','cantidad','fecha_hecho']]\r\n",
    "\r\n",
    "datos2 = (datos1.groupby(['departamento','fecha_hecho'])\r\n",
    "               .sum(['cantidad'])\r\n",
    "               .sort_values(['cantidad'], ascending=False)\r\n",
    "               .reset_index())\r\n",
    "\r\n",
    "print (datos2)\r\n",
    "datos['departamento'].hist()\r\n",
    "\r\n",
    "#Podemos ver que los departamentos con mas Hurto 3 en el último año de estos datos son:\r\n",
    "# 1)VALLE           56\r\n",
    "# 2)CUNDINAMARCA\t34    \r\n",
    "# 3)ANTIOQUIA       12"
   ],
   "outputs": [
    {
     "output_type": "stream",
     "name": "stdout",
     "text": [
      "     departamento fecha_hecho  cantidad\n",
      "0    CUNDINAMARCA   6/01/2010        28\n",
      "1    CUNDINAMARCA  14/01/2010        25\n",
      "2    CUNDINAMARCA   4/01/2010        24\n",
      "3    CUNDINAMARCA  12/01/2010        23\n",
      "4    CUNDINAMARCA   8/01/2010        22\n",
      "..            ...         ...       ...\n",
      "308       GUAJIRA   5/01/2010         1\n",
      "309       GUAJIRA   7/01/2010         1\n",
      "310      AMAZONAS   2/01/2010         1\n",
      "311         HUILA  14/01/2010         1\n",
      "312       VICHADA   5/01/2010         1\n",
      "\n",
      "[313 rows x 3 columns]\n"
     ]
    },
    {
     "output_type": "execute_result",
     "data": {
      "text/plain": [
       "<AxesSubplot:>"
      ]
     },
     "metadata": {},
     "execution_count": 21
    },
    {
     "output_type": "display_data",
     "data": {
      "image/png": "[encoded data removed]",
      "text/plain": [
       "<Figure size 432x288 with 1 Axes>"
      ]
     },
     "metadata": {
      "needs_background": "light"
     }
    }
   ],
   "metadata": {}
  },
  {
   "cell_type": "code",
   "execution_count": 22,
   "source": [
    "#2.¿Cuál ha sido históricamente el arma o medio más común para cometer el delito?\r\n",
    "armas_medios_emp_num =  datos.groupby('armas_medios')['armas_medios'].count().sort_values(ascending=False)\r\n",
    "print(armas_medios_emp_num)\r\n",
    "# El arma mas común para cometer Hurto 3 SIN EMPLEO DE ARMAS."
   ],
   "outputs": [
    {
     "output_type": "stream",
     "name": "stdout",
     "text": [
      "armas_medios\n",
      "SIN EMPLEO DE ARMAS            379\n",
      "CONTUNDENTES                   334\n",
      "ARMA DE FUEGO                  123\n",
      "NO REPORTADO                    98\n",
      "CORTANTES                       43\n",
      "ARMA BLANCA / CORTOPUNZANTE     23\n",
      "Name: armas_medios, dtype: int64\n"
     ]
    }
   ],
   "metadata": {}
  },
  {
   "cell_type": "code",
   "execution_count": 155,
   "source": [
    "#3. ¿Cómo es la proporción de géneros y grupos etarios que han estado involucrados en este tipo de delito? ¿Han variado con el paso de los años?\r\n",
    "datos3 = (datos.groupby(['genero','grupo_etar_o'])\r\n",
    "               .sum(['cantidad'])\r\n",
    "               .sort_values(['cantidad'], ascending=False)\r\n",
    "               .reset_index()\r\n",
    "               )\r\n",
    "               \r\n",
    "\r\n",
    "datos3 =datos3.drop(['codigo_dane'],axis=1)\r\n",
    "print(datos3)\r\n",
    "datos['genero'].hist()\r\n",
    "\r\n",
    "\r\n",
    "#La proporcion de homicidios es de 10 hombres por 1 mujer. La  mayoria de homicidios cometidos fueron realizados por hombres adultos con 859 homicidios tambien varia en incremento durante los ultimos años.\r\n"
   ],
   "outputs": [],
   "metadata": {}
  },
  {
   "cell_type": "code",
   "execution_count": null,
   "source": [
    "#3. ¿Cómo es la proporción de géneros y grupos etarios que han estado involucrados en este tipo de delito? ¿Han variado con el paso de los años?\r\n",
    "datos4 = (datos.groupby(['genero','grupo_etar_o','fecha_hecho'])\r\n",
    "               .sum(['cantidad'])\r\n",
    "               .sort_values(['cantidad'], ascending=False)\r\n",
    "               .reset_index())\r\n",
    "               \r\n",
    "datos4 =datos4.drop(['codigo_dane'],axis=1)\r\n",
    "print(datos4)\r\n",
    "datos['grupo_etar_o'].hist()\r\n",
    "\r\n",
    "#La proporcion de homicidios es de 10 hombres por 1 mujer. La  mayoria de homicidios cometidos fueron realizados por hombres adultos con 859 homicidios tambien varia en incremento durante los ultimos años."
   ],
   "outputs": [
    {
     "output_type": "stream",
     "name": "stdout",
     "text": [
      "       genero grupo_etar_o fecha_hecho  cantidad\n",
      "0   MASCULINO      ADULTOS   1/01/2010        91\n",
      "1   MASCULINO      ADULTOS  17/01/2010        75\n",
      "2   MASCULINO      ADULTOS  16/01/2010        59\n",
      "3   MASCULINO      ADULTOS  10/01/2010        55\n",
      "4   MASCULINO      ADULTOS   9/01/2010        54\n",
      "..        ...          ...         ...       ...\n",
      "69   FEMENINO      MENORES  12/01/2010         1\n",
      "70   FEMENINO      ADULTOS   6/01/2010         1\n",
      "71   FEMENINO      ADULTOS  15/01/2010         1\n",
      "72   FEMENINO  ADOLECENTES  16/01/2010         1\n",
      "73  MASCULINO      MENORES   8/01/2010         1\n",
      "\n",
      "[74 rows x 4 columns]\n"
     ]
    },
    {
     "output_type": "execute_result",
     "data": {
      "text/plain": [
       "<AxesSubplot:>"
      ]
     },
     "metadata": {},
     "execution_count": 142
    },
    {
     "output_type": "display_data",
     "data": {
      "image/png": "[encoded data removed]",
      "text/plain": [
       "<Figure size 432x288 with 1 Axes>"
      ]
     },
     "metadata": {
      "needs_background": "light"
     }
    }
   ],
   "metadata": {}
  },
  {
   "cell_type": "code",
   "execution_count": null,
   "source": [
    "#4. ¿Se evidencia alguna tendencia para cometer dicho delito en algún mes particular del año?\r\n",
    "datos6 = (datos.groupby(['descripci_n_conducta','fecha_hecho'])\r\n",
    "               .sum(['cantidad'])\r\n",
    "               .sort_values(['cantidad'], ascending=False)\r\n",
    "               .reset_index())\r\n",
    "\r\n",
    "datos6 =datos6.drop(['codigo_dane'],axis=1)\r\n",
    "datos6['fecha_hecho'].value_counts().plot()\r\n",
    "datos6\r\n",
    "#En los primeros dias del año, es decir en festividades de años nuevo se evidencia un alto incremento en los homicidios siendo el dia más frecute el 1 de enero."
   ],
   "outputs": [
    {
     "output_type": "execute_result",
     "data": {
      "text/plain": [
       "[]"
      ]
     },
     "metadata": {},
     "execution_count": 140
    },
    {
     "output_type": "display_data",
     "data": {
      "image/png": "[encoded data removed]",
      "text/plain": [
       "<Figure size 432x288 with 1 Axes>"
      ]
     },
     "metadata": {
      "needs_background": "light"
     }
    }
   ],
   "metadata": {}
  },
  {
   "cell_type": "code",
   "execution_count": null,
   "source": [
    "#4. ¿cuáles son los delitos, descripciones o modalidades más comunes?\r\n",
    "datos7 = (datos.groupby(['descripci_n_conducta'])\r\n",
    "               .sum(['cantidad'])\r\n",
    "               .sort_values(['cantidad'], ascending=False)\r\n",
    "               .reset_index())\r\n",
    "\r\n",
    "datos7 =datos7.drop(['codigo_dane'],axis=1)\r\n",
    "datos7\r\n",
    "\r\n",
    "datos['descripci_n_conducta'].hist()\r\n",
    "\r\n",
    "#los delitos, descripciones o modalidades más comunes son homicidio y HOMICIDIO CULPOSO por ACCIDENTE DE TRÁNSITO)"
   ],
   "outputs": [
    {
     "output_type": "execute_result",
     "data": {
      "text/plain": [
       "<AxesSubplot:>"
      ]
     },
     "metadata": {},
     "execution_count": 136
    },
    {
     "output_type": "display_data",
     "data": {
      "image/png": "[encoded data removed]",
      "text/plain": [
       "<Figure size 432x288 with 1 Axes>"
      ]
     },
     "metadata": {
      "needs_background": "light"
     }
    }
   ],
   "metadata": {}
  }
 ],
 "metadata": {
  "kernelspec": {
   "name": "python3",
   "display_name": "Python 3.9.2 64-bit"
  },
  "language_info": {
   "codemirror_mode": {
    "name": "ipython",
    "version": 3
   },
   "file_extension": ".py",
   "mimetype": "text/x-python",
   "name": "python",
   "nbconvert_exporter": "python",
   "pygments_lexer": "ipython3",
   "version": "3.9.2"
  },
  "interpreter": {
   "hash": "4ce0e62306dd6a5716965d4519ada776f947e6dfc145b604b11307c10277ef29"
  }
 },
 "nbformat": 4,
 "nbformat_minor": 4
}