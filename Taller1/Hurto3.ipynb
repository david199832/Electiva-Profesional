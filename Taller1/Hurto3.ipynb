{
 "cells": [
  {
   "cell_type": "markdown",
   "metadata": {},
   "source": [
    "# Introducción a herramientas para Ciencia de Datos - Pandas"
   ]
  },
  {
   "cell_type": "code",
   "execution_count": 17,
   "metadata": {},
   "outputs": [
    {
     "data": {
      "text/html": [
       "<div>\n",
       "<style scoped>\n",
       "    .dataframe tbody tr th:only-of-type {\n",
       "        vertical-align: middle;\n",
       "    }\n",
       "\n",
       "    .dataframe tbody tr th {\n",
       "        vertical-align: top;\n",
       "    }\n",
       "\n",
       "    .dataframe thead th {\n",
       "        text-align: right;\n",
       "    }\n",
       "</style>\n",
       "<table border=\"1\" class=\"dataframe\">\n",
       "  <thead>\n",
       "    <tr style=\"text-align: right;\">\n",
       "      <th></th>\n",
       "      <th>departamento</th>\n",
       "      <th>municipio</th>\n",
       "      <th>codigo_dane</th>\n",
       "      <th>armas_medios</th>\n",
       "      <th>fecha_hecho</th>\n",
       "      <th>genero</th>\n",
       "      <th>grupo_etario</th>\n",
       "      <th>tipo_de_hurto</th>\n",
       "      <th>cantidad</th>\n",
       "    </tr>\n",
       "  </thead>\n",
       "  <tbody>\n",
       "    <tr>\n",
       "      <th>0</th>\n",
       "      <td>AMAZONAS</td>\n",
       "      <td>LETICIA (CT)</td>\n",
       "      <td>91001000</td>\n",
       "      <td>CONTUNDENTES</td>\n",
       "      <td>1/01/2010</td>\n",
       "      <td>MASCULINO</td>\n",
       "      <td>ADULTOS</td>\n",
       "      <td>HURTO RESIDENCIAS</td>\n",
       "      <td>1</td>\n",
       "    </tr>\n",
       "    <tr>\n",
       "      <th>1</th>\n",
       "      <td>ANTIOQUIA</td>\n",
       "      <td>PUERTO BERRÍO</td>\n",
       "      <td>5579000</td>\n",
       "      <td>SIN EMPLEO DE ARMAS</td>\n",
       "      <td>1/01/2010</td>\n",
       "      <td>MASCULINO</td>\n",
       "      <td>ADULTOS</td>\n",
       "      <td>HURTO RESIDENCIAS</td>\n",
       "      <td>1</td>\n",
       "    </tr>\n",
       "    <tr>\n",
       "      <th>2</th>\n",
       "      <td>ANTIOQUIA</td>\n",
       "      <td>TURBO</td>\n",
       "      <td>5837000</td>\n",
       "      <td>NO REPORTADO</td>\n",
       "      <td>1/01/2010</td>\n",
       "      <td>FEMENINO</td>\n",
       "      <td>ADULTOS</td>\n",
       "      <td>HURTO RESIDENCIAS</td>\n",
       "      <td>1</td>\n",
       "    </tr>\n",
       "    <tr>\n",
       "      <th>3</th>\n",
       "      <td>ARAUCA</td>\n",
       "      <td>ARAUCA (CT)</td>\n",
       "      <td>81001000</td>\n",
       "      <td>SIN EMPLEO DE ARMAS</td>\n",
       "      <td>1/01/2010</td>\n",
       "      <td>FEMENINO</td>\n",
       "      <td>ADULTOS</td>\n",
       "      <td>HURTO RESIDENCIAS</td>\n",
       "      <td>1</td>\n",
       "    </tr>\n",
       "    <tr>\n",
       "      <th>4</th>\n",
       "      <td>BOLÍVAR</td>\n",
       "      <td>CARTAGENA (CT)</td>\n",
       "      <td>13001000</td>\n",
       "      <td>SIN EMPLEO DE ARMAS</td>\n",
       "      <td>1/01/2010</td>\n",
       "      <td>MASCULINO</td>\n",
       "      <td>ADULTOS</td>\n",
       "      <td>HURTO RESIDENCIAS</td>\n",
       "      <td>1</td>\n",
       "    </tr>\n",
       "  </tbody>\n",
       "</table>\n",
       "</div>"
      ],
      "text/plain": [
       "  departamento       municipio  codigo_dane         armas_medios fecha_hecho  \\\n",
       "0     AMAZONAS    LETICIA (CT)     91001000         CONTUNDENTES   1/01/2010   \n",
       "1    ANTIOQUIA   PUERTO BERRÍO      5579000  SIN EMPLEO DE ARMAS   1/01/2010   \n",
       "2    ANTIOQUIA           TURBO      5837000         NO REPORTADO   1/01/2010   \n",
       "3       ARAUCA     ARAUCA (CT)     81001000  SIN EMPLEO DE ARMAS   1/01/2010   \n",
       "4      BOLÍVAR  CARTAGENA (CT)     13001000  SIN EMPLEO DE ARMAS   1/01/2010   \n",
       "\n",
       "      genero grupo_etario      tipo_de_hurto  cantidad  \n",
       "0  MASCULINO      ADULTOS  HURTO RESIDENCIAS         1  \n",
       "1  MASCULINO      ADULTOS  HURTO RESIDENCIAS         1  \n",
       "2   FEMENINO      ADULTOS  HURTO RESIDENCIAS         1  \n",
       "3   FEMENINO      ADULTOS  HURTO RESIDENCIAS         1  \n",
       "4  MASCULINO      ADULTOS  HURTO RESIDENCIAS         1  "
      ]
     },
     "execution_count": 17,
     "metadata": {},
     "output_type": "execute_result"
    }
   ],
   "source": [
    "import datetime \n",
    "import numpy as np\n",
    "import pandas as pd\n",
    "from sodapy import Socrata\n",
    "\n",
    "client = Socrata(\"www.datos.gov.co\", None)\n",
    "\n",
    "results = client.get(\"ha6j-pa2r\", limit=200)\n",
    "\n",
    "# Convert to pandas DataFrame\n",
    "datosX = pd.DataFrame.from_records(results)\n",
    "\n",
    "datos = pd.read_json(\"https://www.datos.gov.co/resource/ha6j-pa2r.json\")\n",
    "\n",
    "datos.head()\n"
   ]
  },
  {
   "cell_type": "code",
   "execution_count": 18,
   "metadata": {},
   "outputs": [
    {
     "data": {
      "text/plain": [
       "(1000, 9)"
      ]
     },
     "execution_count": 18,
     "metadata": {},
     "output_type": "execute_result"
    }
   ],
   "source": [
    "datos.shape\n"
   ]
  },
  {
   "cell_type": "code",
   "execution_count": 19,
   "metadata": {},
   "outputs": [
    {
     "data": {
      "text/plain": [
       "departamento     object\n",
       "municipio        object\n",
       "codigo_dane       int64\n",
       "armas_medios     object\n",
       "fecha_hecho      object\n",
       "genero           object\n",
       "grupo_etario     object\n",
       "tipo_de_hurto    object\n",
       "cantidad          int64\n",
       "dtype: object"
      ]
     },
     "execution_count": 19,
     "metadata": {},
     "output_type": "execute_result"
    }
   ],
   "source": [
    "datos.dtypes"
   ]
  },
  {
   "cell_type": "code",
   "execution_count": 20,
   "metadata": {},
   "outputs": [
    {
     "data": {
      "text/html": [
       "<div>\n",
       "<style scoped>\n",
       "    .dataframe tbody tr th:only-of-type {\n",
       "        vertical-align: middle;\n",
       "    }\n",
       "\n",
       "    .dataframe tbody tr th {\n",
       "        vertical-align: top;\n",
       "    }\n",
       "\n",
       "    .dataframe thead th {\n",
       "        text-align: right;\n",
       "    }\n",
       "</style>\n",
       "<table border=\"1\" class=\"dataframe\">\n",
       "  <thead>\n",
       "    <tr style=\"text-align: right;\">\n",
       "      <th></th>\n",
       "      <th>departamento</th>\n",
       "      <th>cantidad</th>\n",
       "    </tr>\n",
       "  </thead>\n",
       "  <tbody>\n",
       "    <tr>\n",
       "      <th>0</th>\n",
       "      <td>CUNDINAMARCA</td>\n",
       "      <td>304</td>\n",
       "    </tr>\n",
       "    <tr>\n",
       "      <th>1</th>\n",
       "      <td>VALLE</td>\n",
       "      <td>121</td>\n",
       "    </tr>\n",
       "    <tr>\n",
       "      <th>2</th>\n",
       "      <td>META</td>\n",
       "      <td>72</td>\n",
       "    </tr>\n",
       "    <tr>\n",
       "      <th>3</th>\n",
       "      <td>SANTANDER</td>\n",
       "      <td>67</td>\n",
       "    </tr>\n",
       "    <tr>\n",
       "      <th>4</th>\n",
       "      <td>ANTIOQUIA</td>\n",
       "      <td>38</td>\n",
       "    </tr>\n",
       "    <tr>\n",
       "      <th>5</th>\n",
       "      <td>HUILA</td>\n",
       "      <td>33</td>\n",
       "    </tr>\n",
       "    <tr>\n",
       "      <th>6</th>\n",
       "      <td>BOLÍVAR</td>\n",
       "      <td>28</td>\n",
       "    </tr>\n",
       "    <tr>\n",
       "      <th>7</th>\n",
       "      <td>BOYACÁ</td>\n",
       "      <td>27</td>\n",
       "    </tr>\n",
       "    <tr>\n",
       "      <th>8</th>\n",
       "      <td>CESAR</td>\n",
       "      <td>24</td>\n",
       "    </tr>\n",
       "    <tr>\n",
       "      <th>9</th>\n",
       "      <td>RISARALDA</td>\n",
       "      <td>24</td>\n",
       "    </tr>\n",
       "    <tr>\n",
       "      <th>10</th>\n",
       "      <td>NARIÑO</td>\n",
       "      <td>22</td>\n",
       "    </tr>\n",
       "    <tr>\n",
       "      <th>11</th>\n",
       "      <td>ATLÁNTICO</td>\n",
       "      <td>21</td>\n",
       "    </tr>\n",
       "    <tr>\n",
       "      <th>12</th>\n",
       "      <td>CALDAS</td>\n",
       "      <td>20</td>\n",
       "    </tr>\n",
       "    <tr>\n",
       "      <th>13</th>\n",
       "      <td>SUCRE</td>\n",
       "      <td>20</td>\n",
       "    </tr>\n",
       "    <tr>\n",
       "      <th>14</th>\n",
       "      <td>CAUCA</td>\n",
       "      <td>19</td>\n",
       "    </tr>\n",
       "    <tr>\n",
       "      <th>15</th>\n",
       "      <td>TOLIMA</td>\n",
       "      <td>19</td>\n",
       "    </tr>\n",
       "    <tr>\n",
       "      <th>16</th>\n",
       "      <td>CÓRDOBA</td>\n",
       "      <td>18</td>\n",
       "    </tr>\n",
       "    <tr>\n",
       "      <th>17</th>\n",
       "      <td>GUAJIRA</td>\n",
       "      <td>17</td>\n",
       "    </tr>\n",
       "    <tr>\n",
       "      <th>18</th>\n",
       "      <td>CASANARE</td>\n",
       "      <td>17</td>\n",
       "    </tr>\n",
       "    <tr>\n",
       "      <th>19</th>\n",
       "      <td>MAGDALENA</td>\n",
       "      <td>15</td>\n",
       "    </tr>\n",
       "    <tr>\n",
       "      <th>20</th>\n",
       "      <td>NORTE DE SANTANDER</td>\n",
       "      <td>14</td>\n",
       "    </tr>\n",
       "    <tr>\n",
       "      <th>21</th>\n",
       "      <td>CHOCÓ</td>\n",
       "      <td>13</td>\n",
       "    </tr>\n",
       "    <tr>\n",
       "      <th>22</th>\n",
       "      <td>CAQUETÁ</td>\n",
       "      <td>11</td>\n",
       "    </tr>\n",
       "    <tr>\n",
       "      <th>23</th>\n",
       "      <td>ARAUCA</td>\n",
       "      <td>10</td>\n",
       "    </tr>\n",
       "    <tr>\n",
       "      <th>24</th>\n",
       "      <td>PUTUMAYO</td>\n",
       "      <td>9</td>\n",
       "    </tr>\n",
       "    <tr>\n",
       "      <th>25</th>\n",
       "      <td>QUINDÍO</td>\n",
       "      <td>9</td>\n",
       "    </tr>\n",
       "    <tr>\n",
       "      <th>26</th>\n",
       "      <td>SAN ANDRÉS</td>\n",
       "      <td>8</td>\n",
       "    </tr>\n",
       "    <tr>\n",
       "      <th>27</th>\n",
       "      <td>VAUPÉS</td>\n",
       "      <td>4</td>\n",
       "    </tr>\n",
       "    <tr>\n",
       "      <th>28</th>\n",
       "      <td>AMAZONAS</td>\n",
       "      <td>3</td>\n",
       "    </tr>\n",
       "    <tr>\n",
       "      <th>29</th>\n",
       "      <td>VICHADA</td>\n",
       "      <td>3</td>\n",
       "    </tr>\n",
       "    <tr>\n",
       "      <th>30</th>\n",
       "      <td>GUAINÍA</td>\n",
       "      <td>2</td>\n",
       "    </tr>\n",
       "  </tbody>\n",
       "</table>\n",
       "</div>"
      ],
      "text/plain": [
       "          departamento  cantidad\n",
       "0         CUNDINAMARCA       304\n",
       "1                VALLE       121\n",
       "2                 META        72\n",
       "3            SANTANDER        67\n",
       "4            ANTIOQUIA        38\n",
       "5                HUILA        33\n",
       "6              BOLÍVAR        28\n",
       "7               BOYACÁ        27\n",
       "8                CESAR        24\n",
       "9            RISARALDA        24\n",
       "10              NARIÑO        22\n",
       "11           ATLÁNTICO        21\n",
       "12              CALDAS        20\n",
       "13               SUCRE        20\n",
       "14               CAUCA        19\n",
       "15              TOLIMA        19\n",
       "16             CÓRDOBA        18\n",
       "17             GUAJIRA        17\n",
       "18            CASANARE        17\n",
       "19           MAGDALENA        15\n",
       "20  NORTE DE SANTANDER        14\n",
       "21               CHOCÓ        13\n",
       "22             CAQUETÁ        11\n",
       "23              ARAUCA        10\n",
       "24            PUTUMAYO         9\n",
       "25             QUINDÍO         9\n",
       "26          SAN ANDRÉS         8\n",
       "27              VAUPÉS         4\n",
       "28            AMAZONAS         3\n",
       "29             VICHADA         3\n",
       "30             GUAINÍA         2"
      ]
     },
     "execution_count": 20,
     "metadata": {},
     "output_type": "execute_result"
    }
   ],
   "source": [
    "#¿Cuáles han sido los departamentos (TOP 3) más afectados a nivel histórico y en el último año?\n",
    "datos1 = datos[['departamento','cantidad']]\n",
    "datos1 = (datos1.groupby(['departamento'])\n",
    "               .sum(['cantidad'])\n",
    "               .sort_values(['cantidad'], ascending=False)\n",
    "               .reset_index())\n",
    "datos1\n",
    "#Podemos ver que los departamentos con mas Homicidios en la historia de estos datos son \n",
    "# 1)VALLE           209\n",
    "# 2)ANTIOQUIA\t    157    \n",
    "# 3)CUNDINAMARCA    105\n",
    "#etrte"
   ]
  },
  {
   "cell_type": "code",
   "execution_count": 29,
   "metadata": {},
   "outputs": [
    {
     "name": "stdout",
     "output_type": "stream",
     "text": [
      "     departamento fecha_hecho  cantidad\n",
      "0    CUNDINAMARCA   6/01/2010        28\n",
      "1    CUNDINAMARCA  14/01/2010        25\n",
      "2    CUNDINAMARCA   4/01/2010        24\n",
      "3    CUNDINAMARCA  12/01/2010        23\n",
      "4    CUNDINAMARCA   8/01/2010        22\n",
      "..            ...         ...       ...\n",
      "308       GUAJIRA   5/01/2010         1\n",
      "309       GUAJIRA   7/01/2010         1\n",
      "310      AMAZONAS   2/01/2010         1\n",
      "311         HUILA  14/01/2010         1\n",
      "312       VICHADA   5/01/2010         1\n",
      "\n",
      "[313 rows x 3 columns]\n"
     ]
    },
    {
     "data": {
      "text/plain": [
       "<AxesSubplot:>"
      ]
     },
     "execution_count": 29,
     "metadata": {},
     "output_type": "execute_result"
    },
    {
     "data": {
      "image/png": "[encoded data removed]",
      "text/plain": [
       "<Figure size 432x288 with 1 Axes>"
      ]
     },
     "metadata": {
      "needs_background": "light"
     },
     "output_type": "display_data"
    }
   ],
   "source": [
    "#1. ¿Cuáles han sido los departamentos (TOP 3) más afectados en el último año?\n",
    "datos1 = datos[['departamento','cantidad','fecha_hecho']]\n",
    "\n",
    "datos2 = (datos1.groupby(['departamento','fecha_hecho'])\n",
    "               .sum(['cantidad'])\n",
    "               .sort_values(['cantidad'], ascending=False)\n",
    "               .reset_index())\n",
    "\n",
    "print (datos2)\n",
    "datos['departamento'].hist()\n",
    "\n",
    "#Podemos ver que los departamentos con mas Hurto 3 en el último año de estos datos son:\n",
    "# 1)CUNDINAMARCA    56\n",
    "# 2)CUNDINAMARCA\t34    \n",
    "# 3)ANTIOQUIA       12"
   ]
  },
  {
   "cell_type": "code",
   "execution_count": 30,
   "metadata": {},
   "outputs": [
    {
     "name": "stdout",
     "output_type": "stream",
     "text": [
      "armas_medios\n",
      "SIN EMPLEO DE ARMAS            379\n",
      "CONTUNDENTES                   334\n",
      "ARMA DE FUEGO                  123\n",
      "NO REPORTADO                    98\n",
      "CORTANTES                       43\n",
      "ARMA BLANCA / CORTOPUNZANTE     23\n",
      "Name: armas_medios, dtype: int64\n"
     ]
    }
   ],
   "source": [
    "#2.¿Cuál ha sido históricamente el arma o medio más común para cometer el delito?\n",
    "armas_medios_emp_num =  datos.groupby('armas_medios')['armas_medios'].count().sort_values(ascending=False)\n",
    "print(armas_medios_emp_num)\n",
    "# El arma mas común para cometer Hurto 3 SIN EMPLEO DE ARMAS."
   ]
  },
  {
   "cell_type": "code",
   "execution_count": 32,
   "metadata": {},
   "outputs": [
    {
     "name": "stdout",
     "output_type": "stream",
     "text": [
      "       genero grupo_etario  cantidad\n",
      "0   MASCULINO      ADULTOS       577\n",
      "1    FEMENINO      ADULTOS       421\n",
      "2           -    NO APORTA        11\n",
      "3    FEMENINO  ADOLECENTES         2\n",
      "4  NO REPORTA      ADULTOS         1\n"
     ]
    },
    {
     "data": {
      "text/plain": [
       "<AxesSubplot:>"
      ]
     },
     "execution_count": 32,
     "metadata": {},
     "output_type": "execute_result"
    },
    {
     "data": {
      "image/png": "[encoded data removed]",
      "text/plain": [
       "<Figure size 432x288 with 1 Axes>"
      ]
     },
     "metadata": {
      "needs_background": "light"
     },
     "output_type": "display_data"
    }
   ],
   "source": [
    "#3. ¿Cómo es la proporción de géneros y grupos etarios que han estado involucrados en este tipo de delito? ¿Han variado con el paso de los años?\n",
    "datos3 = (datos.groupby(['genero','grupo_etario'])\n",
    "               .sum(['cantidad'])\n",
    "               .sort_values(['cantidad'], ascending=False)\n",
    "               .reset_index()\n",
    "               )\n",
    "               \n",
    "\n",
    "datos3 =datos3.drop(['codigo_dane'],axis=1)\n",
    "print(datos3)\n",
    "datos['genero'].hist()\n",
    "\n",
    "\n",
    "#La proporcion de hurto 3 que La  mayoria de hurtos 3 cometidos fueron realizados por \n",
    "#hombres adultos con 577 hurtos seguidos de mujeres adultas  con 421.\n"
   ]
  },
  {
   "cell_type": "code",
   "execution_count": null,
   "metadata": {},
   "outputs": [
    {
     "data": {
      "text/plain": [
       "[]"
      ]
     },
     "execution_count": 140,
     "metadata": {},
     "output_type": "execute_result"
    },
    {
     "data": {
      "image/png": "[encoded data removed]",
      "text/plain": [
       "<Figure size 432x288 with 1 Axes>"
      ]
     },
     "metadata": {
      "needs_background": "light"
     },
     "output_type": "display_data"
    }
   ],
   "source": [
    "#4. ¿Se evidencia alguna tendencia para cometer dicho delito en algún mes particular del año?\n",
    "datos6 = (datos.groupby(['descripci_n_conducta','fecha_hecho'])\n",
    "               .sum(['cantidad'])\n",
    "               .sort_values(['cantidad'], ascending=False)\n",
    "               .reset_index())\n",
    "\n",
    "datos6 =datos6.drop(['codigo_dane'],axis=1)\n",
    "datos6['fecha_hecho'].value_counts().plot()\n",
    "datos6\n",
    "#En los primeros dias del año, es decir en festividades de años nuevo se evidencia un alto incremento en los homicidios siendo el dia más frecute el 1 de enero."
   ]
  },
  {
   "cell_type": "code",
   "execution_count": 38,
   "metadata": {},
   "outputs": [
    {
     "name": "stdout",
     "output_type": "stream",
     "text": [
      "               tipo_de_hurto  cantidad\n",
      "0          HURTO RESIDENCIAS       923\n",
      "1             HURTO ABIGEATO        67\n",
      "2  HURTO PIRATERÍA TERRESTRE        22\n"
     ]
    },
    {
     "data": {
      "text/plain": [
       "<AxesSubplot:>"
      ]
     },
     "execution_count": 38,
     "metadata": {},
     "output_type": "execute_result"
    },
    {
     "data": {
      "image/png": "[encoded data removed]",
      "text/plain": [
       "<Figure size 432x288 with 1 Axes>"
      ]
     },
     "metadata": {
      "needs_background": "light"
     },
     "output_type": "display_data"
    }
   ],
   "source": [
    "#4. ¿cuáles son los delitos, descripciones o modalidades más comunes?\n",
    "datos7 = (datos.groupby(['tipo_de_hurto'])\n",
    "               .sum(['cantidad'])\n",
    "               .sort_values(['cantidad'], ascending=False)\n",
    "               .reset_index())\n",
    "\n",
    "datos7 =datos7.drop(['codigo_dane'],axis=1)\n",
    "print(datos7)\n",
    "\n",
    "datos['tipo_de_hurto'].hist()\n",
    "\n",
    "#el tipo de hurto más comun es el hurto de residencias con 923 hurtos"
   ]
  }
 ],
 "metadata": {
  "interpreter": {
   "hash": "4ce0e62306dd6a5716965d4519ada776f947e6dfc145b604b11307c10277ef29"
  },
  "kernelspec": {
   "display_name": "Python 3.9.2 64-bit",
   "name": "python3"
  },
  "language_info": {
   "codemirror_mode": {
    "name": "ipython",
    "version": 3
   },
   "file_extension": ".py",
   "mimetype": "text/x-python",
   "name": "python",
   "nbconvert_exporter": "python",
   "pygments_lexer": "ipython3",
   "version": "3.9.2"
  }
 },
 "nbformat": 4,
 "nbformat_minor": 4
}
