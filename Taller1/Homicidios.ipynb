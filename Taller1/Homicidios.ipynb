{
 "cells": [
  {
   "cell_type": "markdown",
   "source": [
    "# Introducción a herramientas para Ciencia de Datos - Pandas"
   ],
   "metadata": {}
  },
  {
   "cell_type": "code",
   "execution_count": 148,
   "source": [
    "import datetime \r\n",
    "import numpy as np\r\n",
    "import pandas as pd\r\n",
    "from sodapy import Socrata\r\n",
    "\r\n",
    "client = Socrata(\"www.datos.gov.co\", None)\r\n",
    "\r\n",
    "results = client.get(\"ha6j-pa2r\", limit=200000)\r\n",
    "\r\n",
    "# Convert to pandas DataFrame\r\n",
    "datos = pd.DataFrame.from_records(results)\r\n",
    "\r\n",
    "datosw = pd.read_json(\"https://www.datos.gov.co/resource/ha6j-pa2r.json\")\r\n",
    "\r\n",
    "datosw.head()\r\n"
   ],
   "outputs": [
    {
     "output_type": "stream",
     "name": "stderr",
     "text": [
      "WARNING:root:Requests made without an app_token will be subject to strict throttling limits.\n"
     ]
    },
    {
     "output_type": "execute_result",
     "data": {
      "text/html": [
       "<div>\n",
       "<style scoped>\n",
       "    .dataframe tbody tr th:only-of-type {\n",
       "        vertical-align: middle;\n",
       "    }\n",
       "\n",
       "    .dataframe tbody tr th {\n",
       "        vertical-align: top;\n",
       "    }\n",
       "\n",
       "    .dataframe thead th {\n",
       "        text-align: right;\n",
       "    }\n",
       "</style>\n",
       "<table border=\"1\" class=\"dataframe\">\n",
       "  <thead>\n",
       "    <tr style=\"text-align: right;\">\n",
       "      <th></th>\n",
       "      <th>departamento</th>\n",
       "      <th>municipio</th>\n",
       "      <th>codigo_dane</th>\n",
       "      <th>armas_medios</th>\n",
       "      <th>fecha_hecho</th>\n",
       "      <th>genero</th>\n",
       "      <th>grupo_etar_o</th>\n",
       "      <th>descripci_n_conducta</th>\n",
       "      <th>cantidad</th>\n",
       "    </tr>\n",
       "  </thead>\n",
       "  <tbody>\n",
       "    <tr>\n",
       "      <th>0</th>\n",
       "      <td>ANTIOQUIA</td>\n",
       "      <td>COPACABANA</td>\n",
       "      <td>5212000</td>\n",
       "      <td>ARMA DE FUEGO</td>\n",
       "      <td>1/01/2010</td>\n",
       "      <td>MASCULINO</td>\n",
       "      <td>ADULTOS</td>\n",
       "      <td>HOMICIDIO</td>\n",
       "      <td>1</td>\n",
       "    </tr>\n",
       "    <tr>\n",
       "      <th>1</th>\n",
       "      <td>ANTIOQUIA</td>\n",
       "      <td>MEDELLÍN (CT)</td>\n",
       "      <td>5001000</td>\n",
       "      <td>ARMA DE FUEGO</td>\n",
       "      <td>1/01/2010</td>\n",
       "      <td>MASCULINO</td>\n",
       "      <td>ADULTOS</td>\n",
       "      <td>HOMICIDIO</td>\n",
       "      <td>2</td>\n",
       "    </tr>\n",
       "    <tr>\n",
       "      <th>2</th>\n",
       "      <td>ANTIOQUIA</td>\n",
       "      <td>MEDELLÍN (CT)</td>\n",
       "      <td>5001000</td>\n",
       "      <td>ARMA DE FUEGO</td>\n",
       "      <td>1/01/2010</td>\n",
       "      <td>MASCULINO</td>\n",
       "      <td>ADULTOS</td>\n",
       "      <td>HOMICIDIO</td>\n",
       "      <td>1</td>\n",
       "    </tr>\n",
       "    <tr>\n",
       "      <th>3</th>\n",
       "      <td>ANTIOQUIA</td>\n",
       "      <td>MEDELLÍN (CT)</td>\n",
       "      <td>5001000</td>\n",
       "      <td>ARMA DE FUEGO</td>\n",
       "      <td>1/01/2010</td>\n",
       "      <td>MASCULINO</td>\n",
       "      <td>ADULTOS</td>\n",
       "      <td>HOMICIDIO</td>\n",
       "      <td>1</td>\n",
       "    </tr>\n",
       "    <tr>\n",
       "      <th>4</th>\n",
       "      <td>ANTIOQUIA</td>\n",
       "      <td>MEDELLÍN (CT)</td>\n",
       "      <td>5001000</td>\n",
       "      <td>ARMA DE FUEGO</td>\n",
       "      <td>1/01/2010</td>\n",
       "      <td>MASCULINO</td>\n",
       "      <td>ADULTOS</td>\n",
       "      <td>HOMICIDIO</td>\n",
       "      <td>1</td>\n",
       "    </tr>\n",
       "  </tbody>\n",
       "</table>\n",
       "</div>"
      ],
      "text/plain": [
       "  departamento      municipio  codigo_dane   armas_medios fecha_hecho  \\\n",
       "0    ANTIOQUIA     COPACABANA      5212000  ARMA DE FUEGO   1/01/2010   \n",
       "1    ANTIOQUIA  MEDELLÍN (CT)      5001000  ARMA DE FUEGO   1/01/2010   \n",
       "2    ANTIOQUIA  MEDELLÍN (CT)      5001000  ARMA DE FUEGO   1/01/2010   \n",
       "3    ANTIOQUIA  MEDELLÍN (CT)      5001000  ARMA DE FUEGO   1/01/2010   \n",
       "4    ANTIOQUIA  MEDELLÍN (CT)      5001000  ARMA DE FUEGO   1/01/2010   \n",
       "\n",
       "      genero grupo_etar_o descripci_n_conducta  cantidad  \n",
       "0  MASCULINO      ADULTOS            HOMICIDIO         1  \n",
       "1  MASCULINO      ADULTOS            HOMICIDIO         2  \n",
       "2  MASCULINO      ADULTOS            HOMICIDIO         1  \n",
       "3  MASCULINO      ADULTOS            HOMICIDIO         1  \n",
       "4  MASCULINO      ADULTOS            HOMICIDIO         1  "
      ]
     },
     "metadata": {},
     "execution_count": 148
    }
   ],
   "metadata": {}
  },
  {
   "cell_type": "code",
   "execution_count": 149,
   "source": [
    "datos.shape\r\n"
   ],
   "outputs": [
    {
     "output_type": "execute_result",
     "data": {
      "text/plain": [
       "(200000, 9)"
      ]
     },
     "metadata": {},
     "execution_count": 149
    }
   ],
   "metadata": {}
  },
  {
   "cell_type": "code",
   "execution_count": 150,
   "source": [
    "datos.dtypes"
   ],
   "outputs": [
    {
     "output_type": "execute_result",
     "data": {
      "text/plain": [
       "departamento            object\n",
       "municipio               object\n",
       "codigo_dane             object\n",
       "armas_medios            object\n",
       "fecha_hecho             object\n",
       "genero                  object\n",
       "grupo_etar_o            object\n",
       "descripci_n_conducta    object\n",
       "cantidad                object\n",
       "dtype: object"
      ]
     },
     "metadata": {},
     "execution_count": 150
    }
   ],
   "metadata": {}
  },
  {
   "cell_type": "code",
   "execution_count": 151,
   "source": [
    "#¿Cuáles han sido los departamentos (TOP 3) más afectados a nivel histórico y en el último año?\r\n",
    "datos1 = datos[['departamento','cantidad']]\r\n",
    "datos1 = (datos1.groupby(['departamento'])\r\n",
    "               .sum(['cantidad'])\r\n",
    "               .sort_values(['cantidad'], ascending=False)\r\n",
    "               .reset_index())\r\n",
    "datos1\r\n",
    "#Podemos ver que los departamentos con mas Homicidios en la historia de estos datos son \r\n",
    "# 1)VALLE           209\r\n",
    "# 2)ANTIOQUIA\t    157    \r\n",
    "# 3)CUNDINAMARCA    105"
   ],
   "outputs": [
    {
     "output_type": "execute_result",
     "data": {
      "text/html": [
       "<div>\n",
       "<style scoped>\n",
       "    .dataframe tbody tr th:only-of-type {\n",
       "        vertical-align: middle;\n",
       "    }\n",
       "\n",
       "    .dataframe tbody tr th {\n",
       "        vertical-align: top;\n",
       "    }\n",
       "\n",
       "    .dataframe thead th {\n",
       "        text-align: right;\n",
       "    }\n",
       "</style>\n",
       "<table border=\"1\" class=\"dataframe\">\n",
       "  <thead>\n",
       "    <tr style=\"text-align: right;\">\n",
       "      <th></th>\n",
       "      <th>departamento</th>\n",
       "      <th>cantidad</th>\n",
       "    </tr>\n",
       "  </thead>\n",
       "  <tbody>\n",
       "    <tr>\n",
       "      <th>0</th>\n",
       "      <td>ANTIOQUIA</td>\n",
       "      <td>1211111111111111111111121111111111111111112111...</td>\n",
       "    </tr>\n",
       "    <tr>\n",
       "      <th>1</th>\n",
       "      <td>RISARALDA</td>\n",
       "      <td>1111121111111111111111111111111111111111111111...</td>\n",
       "    </tr>\n",
       "    <tr>\n",
       "      <th>2</th>\n",
       "      <td>CALDAS</td>\n",
       "      <td>1111111111111211111111111111111111111111111111...</td>\n",
       "    </tr>\n",
       "    <tr>\n",
       "      <th>3</th>\n",
       "      <td>VICHADA</td>\n",
       "      <td>1111111111111111211111111111112111111111111111...</td>\n",
       "    </tr>\n",
       "    <tr>\n",
       "      <th>4</th>\n",
       "      <td>GUAVIARE</td>\n",
       "      <td>1111111111111111112111111111111111111111111111...</td>\n",
       "    </tr>\n",
       "    <tr>\n",
       "      <th>5</th>\n",
       "      <td>ARAUCA</td>\n",
       "      <td>1111111111111111111111221111111111111111111111...</td>\n",
       "    </tr>\n",
       "    <tr>\n",
       "      <th>6</th>\n",
       "      <td>SAN ANDRÉS</td>\n",
       "      <td>1111111111111111111111111121111111111111111111...</td>\n",
       "    </tr>\n",
       "    <tr>\n",
       "      <th>7</th>\n",
       "      <td>CHOCÓ</td>\n",
       "      <td>1111111111111111111111111111211111111111111111...</td>\n",
       "    </tr>\n",
       "    <tr>\n",
       "      <th>8</th>\n",
       "      <td>AMAZONAS</td>\n",
       "      <td>1111111111111111111111111111112111111111111111...</td>\n",
       "    </tr>\n",
       "    <tr>\n",
       "      <th>9</th>\n",
       "      <td>CESAR</td>\n",
       "      <td>1111111111111111111111111111111121111111111111...</td>\n",
       "    </tr>\n",
       "    <tr>\n",
       "      <th>10</th>\n",
       "      <td>HUILA</td>\n",
       "      <td>1111111111111111111111111111111121111111111111...</td>\n",
       "    </tr>\n",
       "    <tr>\n",
       "      <th>11</th>\n",
       "      <td>VALLE</td>\n",
       "      <td>1111111111111111111111111111111111111121111111...</td>\n",
       "    </tr>\n",
       "    <tr>\n",
       "      <th>12</th>\n",
       "      <td>PUTUMAYO</td>\n",
       "      <td>1111111111111111111111111111111111111111111111...</td>\n",
       "    </tr>\n",
       "    <tr>\n",
       "      <th>13</th>\n",
       "      <td>GUAJIRA</td>\n",
       "      <td>1111111111111111111111111111111111111111111111...</td>\n",
       "    </tr>\n",
       "    <tr>\n",
       "      <th>14</th>\n",
       "      <td>CASANARE</td>\n",
       "      <td>1111111111111111111111111111111111111111111111...</td>\n",
       "    </tr>\n",
       "    <tr>\n",
       "      <th>15</th>\n",
       "      <td>MAGDALENA</td>\n",
       "      <td>1111111111111111111111111111111111111111111111...</td>\n",
       "    </tr>\n",
       "    <tr>\n",
       "      <th>16</th>\n",
       "      <td>CUNDINAMARCA</td>\n",
       "      <td>1111111111111111111111111111111111111111111111...</td>\n",
       "    </tr>\n",
       "    <tr>\n",
       "      <th>17</th>\n",
       "      <td>CAQUETÁ</td>\n",
       "      <td>1111111111111111111111111111111111111111111111...</td>\n",
       "    </tr>\n",
       "    <tr>\n",
       "      <th>18</th>\n",
       "      <td>META</td>\n",
       "      <td>1111111111111111111111111111111111111111111111...</td>\n",
       "    </tr>\n",
       "    <tr>\n",
       "      <th>19</th>\n",
       "      <td>ATLÁNTICO</td>\n",
       "      <td>1111111111111111111111111111111111111111111111...</td>\n",
       "    </tr>\n",
       "    <tr>\n",
       "      <th>20</th>\n",
       "      <td>SUCRE</td>\n",
       "      <td>1111111111111111111111111111111111111111111111...</td>\n",
       "    </tr>\n",
       "    <tr>\n",
       "      <th>21</th>\n",
       "      <td>CAUCA</td>\n",
       "      <td>1111111111111111111111111111111111111111111111...</td>\n",
       "    </tr>\n",
       "    <tr>\n",
       "      <th>22</th>\n",
       "      <td>CÓRDOBA</td>\n",
       "      <td>1111111111111111111111111111111111111111111111...</td>\n",
       "    </tr>\n",
       "    <tr>\n",
       "      <th>23</th>\n",
       "      <td>TOLIMA</td>\n",
       "      <td>1111111111111111111111111111111111111111111111...</td>\n",
       "    </tr>\n",
       "    <tr>\n",
       "      <th>24</th>\n",
       "      <td>NORTE DE SANTANDER</td>\n",
       "      <td>1111111111111111111111111111111111111111111111...</td>\n",
       "    </tr>\n",
       "    <tr>\n",
       "      <th>25</th>\n",
       "      <td>SANTANDER</td>\n",
       "      <td>1111111111111111111111111111111111111111111111...</td>\n",
       "    </tr>\n",
       "    <tr>\n",
       "      <th>26</th>\n",
       "      <td>QUINDÍO</td>\n",
       "      <td>1111111111111111111111111111111111111111111111...</td>\n",
       "    </tr>\n",
       "    <tr>\n",
       "      <th>27</th>\n",
       "      <td>NARIÑO</td>\n",
       "      <td>1111111111111111111111111111111111111111111111...</td>\n",
       "    </tr>\n",
       "    <tr>\n",
       "      <th>28</th>\n",
       "      <td>BOLÍVAR</td>\n",
       "      <td>1111111111111111111111111111111111111111111111...</td>\n",
       "    </tr>\n",
       "    <tr>\n",
       "      <th>29</th>\n",
       "      <td>BOYACÁ</td>\n",
       "      <td>1111111111111111111111111111111111111111111111...</td>\n",
       "    </tr>\n",
       "    <tr>\n",
       "      <th>30</th>\n",
       "      <td>GUAINÍA</td>\n",
       "      <td>11111111111111111111111111111111</td>\n",
       "    </tr>\n",
       "    <tr>\n",
       "      <th>31</th>\n",
       "      <td>VAUPÉS</td>\n",
       "      <td>111111111111111111111111111111</td>\n",
       "    </tr>\n",
       "  </tbody>\n",
       "</table>\n",
       "</div>"
      ],
      "text/plain": [
       "          departamento                                           cantidad\n",
       "0            ANTIOQUIA  1211111111111111111111121111111111111111112111...\n",
       "1            RISARALDA  1111121111111111111111111111111111111111111111...\n",
       "2               CALDAS  1111111111111211111111111111111111111111111111...\n",
       "3              VICHADA  1111111111111111211111111111112111111111111111...\n",
       "4             GUAVIARE  1111111111111111112111111111111111111111111111...\n",
       "5               ARAUCA  1111111111111111111111221111111111111111111111...\n",
       "6           SAN ANDRÉS  1111111111111111111111111121111111111111111111...\n",
       "7                CHOCÓ  1111111111111111111111111111211111111111111111...\n",
       "8             AMAZONAS  1111111111111111111111111111112111111111111111...\n",
       "9                CESAR  1111111111111111111111111111111121111111111111...\n",
       "10               HUILA  1111111111111111111111111111111121111111111111...\n",
       "11               VALLE  1111111111111111111111111111111111111121111111...\n",
       "12            PUTUMAYO  1111111111111111111111111111111111111111111111...\n",
       "13             GUAJIRA  1111111111111111111111111111111111111111111111...\n",
       "14            CASANARE  1111111111111111111111111111111111111111111111...\n",
       "15           MAGDALENA  1111111111111111111111111111111111111111111111...\n",
       "16        CUNDINAMARCA  1111111111111111111111111111111111111111111111...\n",
       "17             CAQUETÁ  1111111111111111111111111111111111111111111111...\n",
       "18                META  1111111111111111111111111111111111111111111111...\n",
       "19           ATLÁNTICO  1111111111111111111111111111111111111111111111...\n",
       "20               SUCRE  1111111111111111111111111111111111111111111111...\n",
       "21               CAUCA  1111111111111111111111111111111111111111111111...\n",
       "22             CÓRDOBA  1111111111111111111111111111111111111111111111...\n",
       "23              TOLIMA  1111111111111111111111111111111111111111111111...\n",
       "24  NORTE DE SANTANDER  1111111111111111111111111111111111111111111111...\n",
       "25           SANTANDER  1111111111111111111111111111111111111111111111...\n",
       "26             QUINDÍO  1111111111111111111111111111111111111111111111...\n",
       "27              NARIÑO  1111111111111111111111111111111111111111111111...\n",
       "28             BOLÍVAR  1111111111111111111111111111111111111111111111...\n",
       "29              BOYACÁ  1111111111111111111111111111111111111111111111...\n",
       "30             GUAINÍA                   11111111111111111111111111111111\n",
       "31              VAUPÉS                     111111111111111111111111111111"
      ]
     },
     "metadata": {},
     "execution_count": 151
    }
   ],
   "metadata": {}
  },
  {
   "cell_type": "code",
   "execution_count": 153,
   "source": [
    "#1. ¿Cuáles han sido los departamentos (TOP 3) más afectados en el último año?\r\n",
    "datos1 = datos[['departamento','cantidad','fecha_hecho']]\r\n",
    "datos2 = (datos1.groupby(['departamento','fecha_hecho'])\r\n",
    "               .sum(['cantidad'])\r\n",
    "               .sort_values(['cantidad'], ascending=False)\r\n",
    "               .reset_index())\r\n",
    "\r\n",
    "print (datos2)\r\n",
    "datos['departamento'].hist()\r\n",
    "\r\n",
    "#Podemos ver que los departamentos con mas Homicidios en el último año de estos datos son:\r\n",
    "# 1)VALLE           56\r\n",
    "# 2)CUNDINAMARCA\t34    \r\n",
    "# 3)ANTIOQUIA       12"
   ],
   "outputs": [
    {
     "output_type": "stream",
     "name": "stdout",
     "text": [
      "      departamento fecha_hecho    cantidad\n",
      "0           ARAUCA  11/07/2010        8111\n",
      "1            CESAR  20/06/2010  7111121111\n",
      "2           TOLIMA  20/04/2010           7\n",
      "3           NARIÑO  21/10/2011      512111\n",
      "4           ARAUCA  17/03/2012      441111\n",
      "...            ...         ...         ...\n",
      "67424      GUAJIRA  19/03/2018           1\n",
      "67425      GUAJIRA  19/04/2010           1\n",
      "67426      GUAJIRA  19/05/2012           1\n",
      "67427      GUAJIRA  19/05/2015           1\n",
      "67428      VICHADA   9/11/2014           1\n",
      "\n",
      "[67429 rows x 3 columns]\n"
     ]
    },
    {
     "output_type": "execute_result",
     "data": {
      "text/plain": [
       "<AxesSubplot:>"
      ]
     },
     "metadata": {},
     "execution_count": 153
    },
    {
     "output_type": "display_data",
     "data": {
      "image/png": "[encoded data removed]",
      "text/plain": [
       "<Figure size 432x288 with 1 Axes>"
      ]
     },
     "metadata": {
      "needs_background": "light"
     }
    }
   ],
   "metadata": {}
  },
  {
   "cell_type": "code",
   "execution_count": 154,
   "source": [
    "#2.¿Cuál ha sido históricamente el arma o medio más común para cometer el delito?\r\n",
    "armas_medios_emp_num =  datos.groupby('armas_medios')['armas_medios'].count().sort_values(ascending=False)\r\n",
    "print(armas_medios_emp_num)\r\n",
    "# El arma mas común para cometer Homicidios son las ARMA DE FUEGO ."
   ],
   "outputs": [
    {
     "output_type": "stream",
     "name": "stdout",
     "text": [
      "armas_medios\n",
      "ARMA DE FUEGO                         108704\n",
      "VEHICULO                               34201\n",
      "ARMA BLANCA / CORTOPUNZANTE            28716\n",
      "MOTO                                   17000\n",
      "CONTUNDENTES                            4815\n",
      "-                                       1614\n",
      "SIN EMPLEO DE ARMAS                     1087\n",
      "NO REPORTADO                            1060\n",
      "BICICLETA                                506\n",
      "ARTEFACTO EXPLOSIVO/CARGA DINAMITA       496\n",
      "CUERDA/SOGA/CADENA                       427\n",
      "MINA ANTIPERSONA                         320\n",
      "BOLSA PLASTICA                           185\n",
      "PUNZANTES                                151\n",
      "GRANADA DE MANO                          134\n",
      "CORTANTES                                114\n",
      "COMBUSTIBLE                               79\n",
      "TREN                                      71\n",
      "CINTAS/CINTURON                           54\n",
      "CILINDRO BOMBA                            46\n",
      "ALMOHADA                                  44\n",
      "VENENO                                    29\n",
      "CARRO BOMBA                               25\n",
      "ARTEFACTO INCENDIARIO                     19\n",
      "SUSTANCIAS TOXICAS                        19\n",
      "MOTO BOMBA                                16\n",
      "CASA BOMBA                                11\n",
      "PAQUETE BOMBA                             11\n",
      "GRANADA DE MORTERO                        10\n",
      "QUIMICOS                                   7\n",
      "ACIDO                                      6\n",
      "PRENDAS DE VESTIR                          6\n",
      "ESCOPOLAMINA                               5\n",
      "ROCKET                                     3\n",
      "JERINGA                                    2\n",
      "GASES                                      2\n",
      "LIQUIDOS                                   1\n",
      "MEDICAMENTOS                               1\n",
      "PERSONA BOMBA                              1\n",
      "OLLA BOMBA                                 1\n",
      "POLVORA(FUEGOS PIROTECNICOS)               1\n",
      "Name: armas_medios, dtype: int64\n"
     ]
    }
   ],
   "metadata": {}
  },
  {
   "cell_type": "code",
   "execution_count": 155,
   "source": [
    "#3. ¿Cómo es la proporción de géneros y grupos etarios que han estado involucrados en este tipo de delito? ¿Han variado con el paso de los años?\r\n",
    "datos3 = (datos.groupby(['genero','grupo_etar_o'])\r\n",
    "               .sum(['cantidad'])\r\n",
    "               .sort_values(['cantidad'], ascending=False)\r\n",
    "               .reset_index()\r\n",
    "               )\r\n",
    "               \r\n",
    "\r\n",
    "datos3 =datos3.drop(['codigo_dane'],axis=1)\r\n",
    "print(datos3)\r\n",
    "datos['genero'].hist()\r\n",
    "\r\n",
    "\r\n",
    "#La proporcion de homicidios es de 10 hombres por 1 mujer. La  mayoria de homicidios cometidos fueron realizados por hombres adultos con 859 homicidios tambien varia en incremento durante los ultimos años.\r\n"
   ],
   "outputs": [],
   "metadata": {}
  },
  {
   "cell_type": "code",
   "execution_count": null,
   "source": [
    "#3. ¿Cómo es la proporción de géneros y grupos etarios que han estado involucrados en este tipo de delito? ¿Han variado con el paso de los años?\r\n",
    "datos4 = (datos.groupby(['genero','grupo_etar_o','fecha_hecho'])\r\n",
    "               .sum(['cantidad'])\r\n",
    "               .sort_values(['cantidad'], ascending=False)\r\n",
    "               .reset_index())\r\n",
    "               \r\n",
    "datos4 =datos4.drop(['codigo_dane'],axis=1)\r\n",
    "print(datos4)\r\n",
    "datos['grupo_etar_o'].hist()\r\n",
    "\r\n",
    "#La proporcion de homicidios es de 10 hombres por 1 mujer. La  mayoria de homicidios cometidos fueron realizados por hombres adultos con 859 homicidios tambien varia en incremento durante los ultimos años."
   ],
   "outputs": [
    {
     "output_type": "stream",
     "name": "stdout",
     "text": [
      "       genero grupo_etar_o fecha_hecho  cantidad\n",
      "0   MASCULINO      ADULTOS   1/01/2010        91\n",
      "1   MASCULINO      ADULTOS  17/01/2010        75\n",
      "2   MASCULINO      ADULTOS  16/01/2010        59\n",
      "3   MASCULINO      ADULTOS  10/01/2010        55\n",
      "4   MASCULINO      ADULTOS   9/01/2010        54\n",
      "..        ...          ...         ...       ...\n",
      "69   FEMENINO      MENORES  12/01/2010         1\n",
      "70   FEMENINO      ADULTOS   6/01/2010         1\n",
      "71   FEMENINO      ADULTOS  15/01/2010         1\n",
      "72   FEMENINO  ADOLECENTES  16/01/2010         1\n",
      "73  MASCULINO      MENORES   8/01/2010         1\n",
      "\n",
      "[74 rows x 4 columns]\n"
     ]
    },
    {
     "output_type": "execute_result",
     "data": {
      "text/plain": [
       "<AxesSubplot:>"
      ]
     },
     "metadata": {},
     "execution_count": 142
    },
    {
     "output_type": "display_data",
     "data": {
      "image/png": "[encoded data removed]",
      "text/plain": [
       "<Figure size 432x288 with 1 Axes>"
      ]
     },
     "metadata": {
      "needs_background": "light"
     }
    }
   ],
   "metadata": {}
  },
  {
   "cell_type": "code",
   "execution_count": null,
   "source": [
    "#4. ¿Se evidencia alguna tendencia para cometer dicho delito en algún mes particular del año?\r\n",
    "datos6 = (datos.groupby(['descripci_n_conducta','fecha_hecho'])\r\n",
    "               .sum(['cantidad'])\r\n",
    "               .sort_values(['cantidad'], ascending=False)\r\n",
    "               .reset_index())\r\n",
    "\r\n",
    "datos6 =datos6.drop(['codigo_dane'],axis=1)\r\n",
    "datos6['fecha_hecho'].value_counts().plot()\r\n",
    "datos6\r\n",
    "#En los primeros dias del año, es decir en festividades de años nuevo se evidencia un alto incremento en los homicidios siendo el dia más frecute el 1 de enero."
   ],
   "outputs": [
    {
     "output_type": "execute_result",
     "data": {
      "text/plain": [
       "[]"
      ]
     },
     "metadata": {},
     "execution_count": 140
    },
    {
     "output_type": "display_data",
     "data": {
      "image/png": "[encoded data removed]",
      "text/plain": [
       "<Figure size 432x288 with 1 Axes>"
      ]
     },
     "metadata": {
      "needs_background": "light"
     }
    }
   ],
   "metadata": {}
  },
  {
   "cell_type": "code",
   "execution_count": null,
   "source": [
    "#4. ¿cuáles son los delitos, descripciones o modalidades más comunes?\r\n",
    "datos7 = (datos.groupby(['descripci_n_conducta'])\r\n",
    "               .sum(['cantidad'])\r\n",
    "               .sort_values(['cantidad'], ascending=False)\r\n",
    "               .reset_index())\r\n",
    "\r\n",
    "datos7 =datos7.drop(['codigo_dane'],axis=1)\r\n",
    "datos7\r\n",
    "\r\n",
    "datos['descripci_n_conducta'].hist()\r\n",
    "\r\n",
    "#los delitos, descripciones o modalidades más comunes son homicidio y HOMICIDIO CULPOSO por ACCIDENTE DE TRÁNSITO)"
   ],
   "outputs": [
    {
     "output_type": "execute_result",
     "data": {
      "text/plain": [
       "<AxesSubplot:>"
      ]
     },
     "metadata": {},
     "execution_count": 136
    },
    {
     "output_type": "display_data",
     "data": {
      "image/png": "[encoded data removed]",
      "text/plain": [
       "<Figure size 432x288 with 1 Axes>"
      ]
     },
     "metadata": {
      "needs_background": "light"
     }
    }
   ],
   "metadata": {}
  }
 ],
 "metadata": {
  "kernelspec": {
   "name": "python3",
   "display_name": "Python 3.9.2 64-bit"
  },
  "language_info": {
   "codemirror_mode": {
    "name": "ipython",
    "version": 3
   },
   "file_extension": ".py",
   "mimetype": "text/x-python",
   "name": "python",
   "nbconvert_exporter": "python",
   "pygments_lexer": "ipython3",
   "version": "3.9.2"
  },
  "interpreter": {
   "hash": "4ce0e62306dd6a5716965d4519ada776f947e6dfc145b604b11307c10277ef29"
  }
 },
 "nbformat": 4,
 "nbformat_minor": 4
}