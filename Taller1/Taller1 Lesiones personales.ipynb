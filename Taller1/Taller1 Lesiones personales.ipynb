{
 "cells": [
  {
   "cell_type": "code",
   "execution_count": 33,
   "source": [
    "#Pandas: Dataset library\r\n",
    "import pandas as pd\r\n",
    "import datetime\r\n",
    "import numpy as np\r\n",
    "\r\n",
    "\r\n",
    "#Read dataset\r\n",
    "rrhh_ds = pd.read_json(\"https://www.datos.gov.co/resource/72sg-cybi.json\")\r\n",
    "\r\n",
    "#Print dataset\r\n",
    "rrhh_ds.head()"
   ],
   "outputs": [
    {
     "output_type": "execute_result",
     "data": {
      "text/html": [
       "<div>\n",
       "<style scoped>\n",
       "    .dataframe tbody tr th:only-of-type {\n",
       "        vertical-align: middle;\n",
       "    }\n",
       "\n",
       "    .dataframe tbody tr th {\n",
       "        vertical-align: top;\n",
       "    }\n",
       "\n",
       "    .dataframe thead th {\n",
       "        text-align: right;\n",
       "    }\n",
       "</style>\n",
       "<table border=\"1\" class=\"dataframe\">\n",
       "  <thead>\n",
       "    <tr style=\"text-align: right;\">\n",
       "      <th></th>\n",
       "      <th>departamento</th>\n",
       "      <th>municipio</th>\n",
       "      <th>codigo_dane</th>\n",
       "      <th>armas_medios</th>\n",
       "      <th>fecha_hecho</th>\n",
       "      <th>genero</th>\n",
       "      <th>grupo_etario</th>\n",
       "      <th>descripci_n_conducta</th>\n",
       "      <th>cantidad</th>\n",
       "    </tr>\n",
       "  </thead>\n",
       "  <tbody>\n",
       "    <tr>\n",
       "      <th>0</th>\n",
       "      <td>AMAZONAS</td>\n",
       "      <td>LETICIA (CT)</td>\n",
       "      <td>91001000</td>\n",
       "      <td>CONTUNDENTES</td>\n",
       "      <td>1/01/2010</td>\n",
       "      <td>MASCULINO</td>\n",
       "      <td>ADULTOS</td>\n",
       "      <td>LESIONES PERSONALES</td>\n",
       "      <td>1</td>\n",
       "    </tr>\n",
       "    <tr>\n",
       "      <th>1</th>\n",
       "      <td>AMAZONAS</td>\n",
       "      <td>LETICIA (CT)</td>\n",
       "      <td>91001000</td>\n",
       "      <td>ARMA DE FUEGO</td>\n",
       "      <td>1/01/2010</td>\n",
       "      <td>MASCULINO</td>\n",
       "      <td>ADULTOS</td>\n",
       "      <td>LESIONES PERSONALES</td>\n",
       "      <td>1</td>\n",
       "    </tr>\n",
       "    <tr>\n",
       "      <th>2</th>\n",
       "      <td>AMAZONAS</td>\n",
       "      <td>LETICIA (CT)</td>\n",
       "      <td>91001000</td>\n",
       "      <td>CONTUNDENTES</td>\n",
       "      <td>1/01/2010</td>\n",
       "      <td>FEMENINO</td>\n",
       "      <td>ADULTOS</td>\n",
       "      <td>LESIONES PERSONALES</td>\n",
       "      <td>2</td>\n",
       "    </tr>\n",
       "    <tr>\n",
       "      <th>3</th>\n",
       "      <td>AMAZONAS</td>\n",
       "      <td>LETICIA (CT)</td>\n",
       "      <td>91001000</td>\n",
       "      <td>CONTUNDENTES</td>\n",
       "      <td>1/01/2010</td>\n",
       "      <td>FEMENINO</td>\n",
       "      <td>ADULTOS</td>\n",
       "      <td>LESIONES PERSONALES</td>\n",
       "      <td>1</td>\n",
       "    </tr>\n",
       "    <tr>\n",
       "      <th>4</th>\n",
       "      <td>AMAZONAS</td>\n",
       "      <td>LETICIA (CT)</td>\n",
       "      <td>91001000</td>\n",
       "      <td>CONTUNDENTES</td>\n",
       "      <td>1/01/2010</td>\n",
       "      <td>FEMENINO</td>\n",
       "      <td>ADULTOS</td>\n",
       "      <td>LESIONES PERSONALES</td>\n",
       "      <td>1</td>\n",
       "    </tr>\n",
       "  </tbody>\n",
       "</table>\n",
       "</div>"
      ],
      "text/plain": [
       "  departamento     municipio  codigo_dane   armas_medios fecha_hecho  \\\n",
       "0     AMAZONAS  LETICIA (CT)     91001000   CONTUNDENTES   1/01/2010   \n",
       "1     AMAZONAS  LETICIA (CT)     91001000  ARMA DE FUEGO   1/01/2010   \n",
       "2     AMAZONAS  LETICIA (CT)     91001000   CONTUNDENTES   1/01/2010   \n",
       "3     AMAZONAS  LETICIA (CT)     91001000   CONTUNDENTES   1/01/2010   \n",
       "4     AMAZONAS  LETICIA (CT)     91001000   CONTUNDENTES   1/01/2010   \n",
       "\n",
       "      genero grupo_etario descripci_n_conducta  cantidad  \n",
       "0  MASCULINO      ADULTOS  LESIONES PERSONALES         1  \n",
       "1  MASCULINO      ADULTOS  LESIONES PERSONALES         1  \n",
       "2   FEMENINO      ADULTOS  LESIONES PERSONALES         2  \n",
       "3   FEMENINO      ADULTOS  LESIONES PERSONALES         1  \n",
       "4   FEMENINO      ADULTOS  LESIONES PERSONALES         1  "
      ]
     },
     "metadata": {},
     "execution_count": 33
    }
   ],
   "metadata": {
    "scrolled": true
   }
  },
  {
   "cell_type": "code",
   "execution_count": 34,
   "source": [
    "#1. ¿Cuáles han sido los departamentos (TOP 3) más afectados a nivel histórico y en el último año?\r\n",
    "\r\n",
    "\r\n",
    "pd = (rrhh_ds.groupby(['departamento'])\r\n",
    "               .sum(['cantidad'])\r\n",
    "               .sort_values(['cantidad'])\r\n",
    "               .reset_index())\r\n",
    "\r\n",
    "print (pd)\r\n",
    "#Podemos ver que los departamentos con mas lesiones personales en la historia de estos datos son \r\n",
    "# 1)CUNDINAMARCA 176\r\n",
    "# 2)VALLE        140\r\n",
    "# 3)SANTANDER    85\r\n",
    "\r\n"
   ],
   "outputs": [
    {
     "output_type": "stream",
     "name": "stdout",
     "text": [
      "          departamento  codigo_dane  cantidad\n",
      "0               VAUPÉS     97001000         1\n",
      "1           SAN ANDRÉS    264003000         3\n",
      "2               ARAUCA    243067000         3\n",
      "3             GUAVIARE    285017000         3\n",
      "4             AMAZONAS    455005000         6\n",
      "5   NORTE DE SANTANDER    379312000         7\n",
      "6             CASANARE    681311000         8\n",
      "7             PUTUMAYO    864163000        10\n",
      "8              GUAJIRA    529825000        12\n",
      "9              CAQUETÁ    217752000        13\n",
      "10             QUINDÍO    884270000        14\n",
      "11               CHOCÓ    351871000        14\n",
      "12               CESAR    280014000        15\n",
      "13             CÓRDOBA    506992000        22\n",
      "14           MAGDALENA   1083353000        25\n",
      "15             BOLÍVAR    396346000        31\n",
      "16              TOLIMA   2192481000        33\n",
      "17                META   1508477000        34\n",
      "18               SUCRE   2319945000        34\n",
      "19              NARIÑO   1671276000        36\n",
      "20           RISARALDA   2512470000        40\n",
      "21              BOYACÁ    618670000        41\n",
      "22               CAUCA    812428000        45\n",
      "23           ANTIOQUIA    229448000        45\n",
      "24           ATLÁNTICO    378189000        50\n",
      "25              CALDAS   1171477000        73\n",
      "26               HUILA   2844156000        75\n",
      "27           SANTANDER   5534159000        85\n",
      "28               VALLE   9451051000       140\n",
      "29        CUNDINAMARCA   2139135000       176\n"
     ]
    }
   ],
   "metadata": {}
  },
  {
   "cell_type": "code",
   "execution_count": 37,
   "source": [
    "#1. ¿Cuáles han sido los departamentos (TOP 3) más afectados a nivel histórico y en el último año?\r\n",
    "\r\n",
    "pd = (rrhh_ds.groupby(['departamento','fecha_hecho'])\r\n",
    "               .sum(['cantidad'])\r\n",
    "               .sort_values(['cantidad'])\r\n",
    "               .reset_index())\r\n",
    "\r\n",
    "print (pd)\r\n",
    "#Podemos ver que los departamentos con mas lesiones personales en la historia de estos datos son 1, durante el año 2010 con mas frecuencia.\r\n",
    "# 1)CUNDINAMARCA 119\r\n",
    "# 2)VALLE        115\r\n",
    "# 3)SANTANDER    63"
   ],
   "outputs": [
    {
     "output_type": "stream",
     "name": "stdout",
     "text": [
      "    departamento fecha_hecho  codigo_dane  cantidad\n",
      "0         VAUPÉS   1/01/2010     97001000         1\n",
      "1       CASANARE   3/01/2010     85001000         1\n",
      "2         NARIÑO   3/01/2010     52260000         1\n",
      "3       PUTUMAYO   2/01/2010     86571000         1\n",
      "4       PUTUMAYO   3/01/2010     86001000         1\n",
      "..           ...         ...          ...       ...\n",
      "70        CALDAS   1/01/2010    671794000        42\n",
      "71         HUILA   1/01/2010   2183686000        59\n",
      "72     SANTANDER   1/01/2010   4031566000        63\n",
      "73         VALLE   1/01/2010   7544929000       115\n",
      "74  CUNDINAMARCA   1/01/2010   1294654000       119\n",
      "\n",
      "[75 rows x 4 columns]\n"
     ]
    }
   ],
   "metadata": {}
  },
  {
   "cell_type": "code",
   "execution_count": 36,
   "source": [
    "#2.¿Cuál ha sido históricamente el arma o medio más común para cometer el delito?\r\n",
    "armas_medios_emp_num =  rrhh_ds.groupby('armas_medios')['armas_medios'].count()\r\n",
    "print(armas_medios_emp_num)\r\n",
    "# El arma mas común para cometer este tipo de lesiones son con objetos contundentes."
   ],
   "outputs": [
    {
     "output_type": "stream",
     "name": "stdout",
     "text": [
      "armas_medios\n",
      "ARMA BLANCA / CORTOPUNZANTE     286\n",
      "ARMA DE FUEGO                   112\n",
      "COMBUSTIBLE                       1\n",
      "CONTUNDENTES                    553\n",
      "JERINGA                           1\n",
      "MOTO                              1\n",
      "NO REPORTADO                      7\n",
      "PERRO                             1\n",
      "POLVORA(FUEGOS PIROTECNICOS)      1\n",
      "PUNZANTES                        37\n",
      "Name: armas_medios, dtype: int64\n"
     ]
    }
   ],
   "metadata": {}
  },
  {
   "cell_type": "code",
   "execution_count": 39,
   "source": [
    "#3. ¿Cómo es la proporción de géneros y grupos etarios que han estado involucrados en este tipo de delito? ¿Han variado con el paso de los años?\r\n",
    "pd = (rrhh_ds.groupby(['genero','grupo_etario','descripci_n_conducta','fecha_hecho'])\r\n",
    "               .sum(['cantidad'])\r\n",
    "               .sort_values(['cantidad'])\r\n",
    "               .reset_index())\r\n",
    "\r\n",
    "print (pd)\r\n",
    "#Los grupos etarios son adultos, adolecente y menores, los mas frecuentes en cometer este tipo de actos son los adultos y adolecentes,tambien varia en incremento durante los ultimos años."
   ],
   "outputs": [
    {
     "output_type": "stream",
     "name": "stdout",
     "text": [
      "        genero grupo_etario descripci_n_conducta fecha_hecho  codigo_dane  \\\n",
      "0   NO REPORTA      ADULTOS  LESIONES PERSONALES   1/01/2010      8001000   \n",
      "1     FEMENINO      MENORES  LESIONES PERSONALES   2/01/2010     66170000   \n",
      "2    MASCULINO  ADOLECENTES  LESIONES PERSONALES   2/01/2010     85874000   \n",
      "3     FEMENINO      MENORES  LESIONES PERSONALES   3/01/2010     26543000   \n",
      "4     FEMENINO      MENORES  LESIONES PERSONALES   1/01/2010     95836000   \n",
      "5     FEMENINO  ADOLECENTES  LESIONES PERSONALES   3/01/2010     63003000   \n",
      "6    MASCULINO      MENORES  LESIONES PERSONALES   1/01/2010    188278000   \n",
      "7    MASCULINO      MENORES  LESIONES PERSONALES   2/01/2010    133577000   \n",
      "8     FEMENINO  ADOLECENTES  LESIONES PERSONALES   2/01/2010    300403000   \n",
      "9    MASCULINO  ADOLECENTES  LESIONES PERSONALES   3/01/2010    171071000   \n",
      "10    FEMENINO  ADOLECENTES  LESIONES PERSONALES   1/01/2010    599226000   \n",
      "11   MASCULINO  ADOLECENTES  LESIONES PERSONALES   1/01/2010    993847000   \n",
      "12    FEMENINO      ADULTOS  LESIONES PERSONALES   3/01/2010   1313533000   \n",
      "13    FEMENINO      ADULTOS  LESIONES PERSONALES   2/01/2010   2679263000   \n",
      "14   MASCULINO      ADULTOS  LESIONES PERSONALES   3/01/2010   1961874000   \n",
      "15   MASCULINO      ADULTOS  LESIONES PERSONALES   2/01/2010   3636586000   \n",
      "16    FEMENINO      ADULTOS  LESIONES PERSONALES   1/01/2010   9769495000   \n",
      "17   MASCULINO      ADULTOS  LESIONES PERSONALES   1/01/2010  18810084000   \n",
      "\n",
      "    cantidad  \n",
      "0          1  \n",
      "1          1  \n",
      "2          2  \n",
      "3          2  \n",
      "4          3  \n",
      "5          3  \n",
      "6          3  \n",
      "7          6  \n",
      "8          6  \n",
      "9          6  \n",
      "10        19  \n",
      "11        35  \n",
      "12        46  \n",
      "13        59  \n",
      "14        75  \n",
      "15        95  \n",
      "16       235  \n",
      "17       497  \n"
     ]
    }
   ],
   "metadata": {}
  },
  {
   "cell_type": "code",
   "execution_count": 40,
   "source": [
    "#4. ¿Se evidencia alguna tendencia para cometer dicho delito en algún mes particular del año?\r\n",
    "pd = (rrhh_ds.groupby(['descripci_n_conducta','fecha_hecho'])\r\n",
    "               .sum(['cantidad'])\r\n",
    "               .sort_values(['cantidad'])\r\n",
    "               .reset_index())\r\n",
    "\r\n",
    "print (pd)\r\n",
    "#En los primeros dias del año, es decir en festividades de años nuevo se evidencia un alto incremento en lesiones, pero mas frecuente el 1 de enero."
   ],
   "outputs": [
    {
     "output_type": "stream",
     "name": "stdout",
     "text": [
      "  descripci_n_conducta fecha_hecho  codigo_dane  cantidad\n",
      "0  LESIONES PERSONALES   3/01/2010   3536024000       132\n",
      "1  LESIONES PERSONALES   2/01/2010   6901873000       169\n",
      "2  LESIONES PERSONALES   1/01/2010  30464767000       793\n"
     ]
    }
   ],
   "metadata": {}
  },
  {
   "cell_type": "code",
   "execution_count": 43,
   "source": [
    "#5. Para los casos en los que se disponga del detalle del delito o de una descripción, como por ejemplo en delitos sexuales y secuestro, ¿cuáles son los delitos, descripciones o modalidades más comunes?\r\n",
    "pd = (rrhh_ds.groupby(['armas_medios','descripci_n_conducta'])\r\n",
    "               .sum(['cantidad'])\r\n",
    "               .sort_values(['cantidad'])\r\n",
    "               .reset_index())\r\n",
    "\r\n",
    "print (pd)\r\n",
    "#La descripción mas común de estos actos son lesiones personales con objetos contundentes y arma blanca, seria el arma mas común. "
   ],
   "outputs": [
    {
     "output_type": "stream",
     "name": "stdout",
     "text": [
      "                   armas_medios descripci_n_conducta  codigo_dane  cantidad\n",
      "0   ARMA BLANCA / CORTOPUNZANTE  LESIONES PERSONALES  11580358000       320\n",
      "1                 ARMA DE FUEGO  LESIONES PERSONALES   4251739000       121\n",
      "2                   COMBUSTIBLE  LESIONES PERSONALES     47001000         1\n",
      "3                  CONTUNDENTES  LESIONES PERSONALES  23379636000       601\n",
      "4                       JERINGA  LESIONES PERSONALES     76001000         1\n",
      "5                          MOTO  LESIONES PERSONALES     13468000         1\n",
      "6                  NO REPORTADO  LESIONES PERSONALES     79560000         7\n",
      "7                         PERRO  LESIONES PERSONALES     11001000         1\n",
      "8  POLVORA(FUEGOS PIROTECNICOS)  LESIONES PERSONALES     76001000         1\n",
      "9                     PUNZANTES  LESIONES PERSONALES   1387899000        40\n"
     ]
    }
   ],
   "metadata": {}
  }
 ],
 "metadata": {
  "kernelspec": {
   "display_name": "Python 3",
   "language": "python",
   "name": "python3"
  },
  "language_info": {
   "codemirror_mode": {
    "name": "ipython",
    "version": 3
   },
   "file_extension": ".py",
   "mimetype": "text/x-python",
   "name": "python",
   "nbconvert_exporter": "python",
   "pygments_lexer": "ipython3",
   "version": "3.8.8"
  }
 },
 "nbformat": 4,
 "nbformat_minor": 5
}