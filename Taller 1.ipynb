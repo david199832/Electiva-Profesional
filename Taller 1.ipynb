{
 "cells": [
  {
   "cell_type": "code",
   "execution_count": 1,
   "source": [
    "#Pandas: Dataset library\r\n",
    "import pandas as pd\r\n",
    "import datetime\r\n",
    "import numpy as np\r\n",
    "\r\n",
    "\r\n",
    "#Read dataset\r\n",
    "rrhh_ds = pd.read_json(\"https://www.datos.gov.co/resource/72sg-cybi.json\")\r\n",
    "\r\n",
    "#Print dataset\r\n",
    "rrhh_ds.head()"
   ],
   "outputs": [
    {
     "output_type": "execute_result",
     "data": {
      "text/html": [
       "<div>\n",
       "<style scoped>\n",
       "    .dataframe tbody tr th:only-of-type {\n",
       "        vertical-align: middle;\n",
       "    }\n",
       "\n",
       "    .dataframe tbody tr th {\n",
       "        vertical-align: top;\n",
       "    }\n",
       "\n",
       "    .dataframe thead th {\n",
       "        text-align: right;\n",
       "    }\n",
       "</style>\n",
       "<table border=\"1\" class=\"dataframe\">\n",
       "  <thead>\n",
       "    <tr style=\"text-align: right;\">\n",
       "      <th></th>\n",
       "      <th>departamento</th>\n",
       "      <th>municipio</th>\n",
       "      <th>codigo_dane</th>\n",
       "      <th>armas_medios</th>\n",
       "      <th>fecha_hecho</th>\n",
       "      <th>genero</th>\n",
       "      <th>grupo_etario</th>\n",
       "      <th>descripci_n_conducta</th>\n",
       "      <th>cantidad</th>\n",
       "    </tr>\n",
       "  </thead>\n",
       "  <tbody>\n",
       "    <tr>\n",
       "      <th>0</th>\n",
       "      <td>AMAZONAS</td>\n",
       "      <td>LETICIA (CT)</td>\n",
       "      <td>91001000</td>\n",
       "      <td>CONTUNDENTES</td>\n",
       "      <td>1/01/2010</td>\n",
       "      <td>MASCULINO</td>\n",
       "      <td>ADULTOS</td>\n",
       "      <td>LESIONES PERSONALES</td>\n",
       "      <td>1</td>\n",
       "    </tr>\n",
       "    <tr>\n",
       "      <th>1</th>\n",
       "      <td>AMAZONAS</td>\n",
       "      <td>LETICIA (CT)</td>\n",
       "      <td>91001000</td>\n",
       "      <td>ARMA DE FUEGO</td>\n",
       "      <td>1/01/2010</td>\n",
       "      <td>MASCULINO</td>\n",
       "      <td>ADULTOS</td>\n",
       "      <td>LESIONES PERSONALES</td>\n",
       "      <td>1</td>\n",
       "    </tr>\n",
       "    <tr>\n",
       "      <th>2</th>\n",
       "      <td>AMAZONAS</td>\n",
       "      <td>LETICIA (CT)</td>\n",
       "      <td>91001000</td>\n",
       "      <td>CONTUNDENTES</td>\n",
       "      <td>1/01/2010</td>\n",
       "      <td>FEMENINO</td>\n",
       "      <td>ADULTOS</td>\n",
       "      <td>LESIONES PERSONALES</td>\n",
       "      <td>2</td>\n",
       "    </tr>\n",
       "    <tr>\n",
       "      <th>3</th>\n",
       "      <td>AMAZONAS</td>\n",
       "      <td>LETICIA (CT)</td>\n",
       "      <td>91001000</td>\n",
       "      <td>CONTUNDENTES</td>\n",
       "      <td>1/01/2010</td>\n",
       "      <td>FEMENINO</td>\n",
       "      <td>ADULTOS</td>\n",
       "      <td>LESIONES PERSONALES</td>\n",
       "      <td>1</td>\n",
       "    </tr>\n",
       "    <tr>\n",
       "      <th>4</th>\n",
       "      <td>AMAZONAS</td>\n",
       "      <td>LETICIA (CT)</td>\n",
       "      <td>91001000</td>\n",
       "      <td>CONTUNDENTES</td>\n",
       "      <td>1/01/2010</td>\n",
       "      <td>FEMENINO</td>\n",
       "      <td>ADULTOS</td>\n",
       "      <td>LESIONES PERSONALES</td>\n",
       "      <td>1</td>\n",
       "    </tr>\n",
       "  </tbody>\n",
       "</table>\n",
       "</div>"
      ],
      "text/plain": [
       "  departamento     municipio  codigo_dane   armas_medios fecha_hecho  \\\n",
       "0     AMAZONAS  LETICIA (CT)     91001000   CONTUNDENTES   1/01/2010   \n",
       "1     AMAZONAS  LETICIA (CT)     91001000  ARMA DE FUEGO   1/01/2010   \n",
       "2     AMAZONAS  LETICIA (CT)     91001000   CONTUNDENTES   1/01/2010   \n",
       "3     AMAZONAS  LETICIA (CT)     91001000   CONTUNDENTES   1/01/2010   \n",
       "4     AMAZONAS  LETICIA (CT)     91001000   CONTUNDENTES   1/01/2010   \n",
       "\n",
       "      genero grupo_etario descripci_n_conducta  cantidad  \n",
       "0  MASCULINO      ADULTOS  LESIONES PERSONALES         1  \n",
       "1  MASCULINO      ADULTOS  LESIONES PERSONALES         1  \n",
       "2   FEMENINO      ADULTOS  LESIONES PERSONALES         2  \n",
       "3   FEMENINO      ADULTOS  LESIONES PERSONALES         1  \n",
       "4   FEMENINO      ADULTOS  LESIONES PERSONALES         1  "
      ]
     },
     "metadata": {},
     "execution_count": 1
    }
   ],
   "metadata": {
    "scrolled": true
   }
  },
  {
   "cell_type": "code",
   "execution_count": 11,
   "source": [
    "#¿Cuáles han sido los departamentos (TOP 3) más afectados a nivel histórico y en el último año?\r\n",
    "\r\n",
    "pd = (rrhh_ds.groupby(['departamento'])\r\n",
    "               .sum(['cantidad'])\r\n",
    "               .sort_values(['cantidad'])\r\n",
    "               .reset_index())\r\n",
    "\r\n",
    "print (pd)\r\n",
    "#Podemos ver que los departamentos con mas lesiones personales en la historia de estos datos son 1.\r\n"
   ],
   "outputs": [
    {
     "output_type": "stream",
     "name": "stdout",
     "text": [
      "          departamento  codigo_dane  cantidad\n",
      "0               VAUPÉS     97001000         1\n",
      "1           SAN ANDRÉS    264003000         3\n",
      "2               ARAUCA    243067000         3\n",
      "3             GUAVIARE    285017000         3\n",
      "4             AMAZONAS    455005000         6\n",
      "5   NORTE DE SANTANDER    379312000         7\n",
      "6             CASANARE    681311000         8\n",
      "7             PUTUMAYO    864163000        10\n",
      "8              GUAJIRA    529825000        12\n",
      "9              CAQUETÁ    217752000        13\n",
      "10             QUINDÍO    884270000        14\n",
      "11               CHOCÓ    351871000        14\n",
      "12               CESAR    280014000        15\n",
      "13             CÓRDOBA    506992000        22\n",
      "14           MAGDALENA   1083353000        25\n",
      "15             BOLÍVAR    396346000        31\n",
      "16              TOLIMA   2192481000        33\n",
      "17                META   1508477000        34\n",
      "18               SUCRE   2319945000        34\n",
      "19              NARIÑO   1671276000        36\n",
      "20           RISARALDA   2512470000        40\n",
      "21              BOYACÁ    618670000        41\n",
      "22               CAUCA    812428000        45\n",
      "23           ANTIOQUIA    229448000        45\n",
      "24           ATLÁNTICO    378189000        50\n",
      "25              CALDAS   1171477000        73\n",
      "26               HUILA   2844156000        75\n",
      "27           SANTANDER   5534159000        85\n",
      "28               VALLE   9451051000       140\n",
      "29        CUNDINAMARCA   2139135000       176\n"
     ]
    }
   ],
   "metadata": {}
  },
  {
   "cell_type": "code",
   "execution_count": 4,
   "source": [
    "#¿Cuáles han sido los departamentos (TOP 3) más afectados a nivel histórico y en el último año?\r\n",
    "rrhh_ds['fecha_hecho'] = pd.to_datetime(rrhh_ds['fecha_hecho'], dayfirst=True)\r\n",
    "\r\n",
    "pd = (rrhh_ds.groupby([rrhh_ds['fecha_hecho'].dt.year,'departamento'])['municipio']\r\n",
    "               .sum()\r\n",
    "               .sort_values()\r\n",
    "               .reset_index())\r\n",
    "print (pd)"
   ],
   "outputs": [
    {
     "output_type": "error",
     "ename": "AttributeError",
     "evalue": "'DataFrame' object has no attribute 'to_datetime'",
     "traceback": [
      "\u001b[1;31m---------------------------------------------------------------------------\u001b[0m",
      "\u001b[1;31mAttributeError\u001b[0m                            Traceback (most recent call last)",
      "\u001b[1;32m<ipython-input-4-37eb1e789e79>\u001b[0m in \u001b[0;36m<module>\u001b[1;34m\u001b[0m\n\u001b[0;32m      1\u001b[0m \u001b[1;31m#¿Cuáles han sido los departamentos (TOP 3) más afectados a nivel histórico y en el último año?\u001b[0m\u001b[1;33m\u001b[0m\u001b[1;33m\u001b[0m\u001b[1;33m\u001b[0m\u001b[0m\n\u001b[1;32m----> 2\u001b[1;33m \u001b[0mrrhh_ds\u001b[0m\u001b[1;33m[\u001b[0m\u001b[1;34m'fecha_hecho'\u001b[0m\u001b[1;33m]\u001b[0m \u001b[1;33m=\u001b[0m \u001b[0mpd\u001b[0m\u001b[1;33m.\u001b[0m\u001b[0mto_datetime\u001b[0m\u001b[1;33m(\u001b[0m\u001b[0mrrhh_ds\u001b[0m\u001b[1;33m[\u001b[0m\u001b[1;34m'fecha_hecho'\u001b[0m\u001b[1;33m]\u001b[0m\u001b[1;33m,\u001b[0m \u001b[0mdayfirst\u001b[0m\u001b[1;33m=\u001b[0m\u001b[1;32mTrue\u001b[0m\u001b[1;33m)\u001b[0m\u001b[1;33m\u001b[0m\u001b[1;33m\u001b[0m\u001b[0m\n\u001b[0m\u001b[0;32m      3\u001b[0m \u001b[1;33m\u001b[0m\u001b[0m\n\u001b[0;32m      4\u001b[0m pd = (rrhh_ds.groupby([rrhh_ds['fecha_hecho'].dt.year,'departamento', 'cantidad'])['municipio']\n\u001b[0;32m      5\u001b[0m                \u001b[1;33m.\u001b[0m\u001b[0msum\u001b[0m\u001b[1;33m(\u001b[0m\u001b[1;33m)\u001b[0m\u001b[1;33m\u001b[0m\u001b[1;33m\u001b[0m\u001b[0m\n",
      "\u001b[1;32mD:\\Python\\lib\\site-packages\\pandas\\core\\generic.py\u001b[0m in \u001b[0;36m__getattr__\u001b[1;34m(self, name)\u001b[0m\n\u001b[0;32m   5463\u001b[0m             \u001b[1;32mif\u001b[0m \u001b[0mself\u001b[0m\u001b[1;33m.\u001b[0m\u001b[0m_info_axis\u001b[0m\u001b[1;33m.\u001b[0m\u001b[0m_can_hold_identifiers_and_holds_name\u001b[0m\u001b[1;33m(\u001b[0m\u001b[0mname\u001b[0m\u001b[1;33m)\u001b[0m\u001b[1;33m:\u001b[0m\u001b[1;33m\u001b[0m\u001b[1;33m\u001b[0m\u001b[0m\n\u001b[0;32m   5464\u001b[0m                 \u001b[1;32mreturn\u001b[0m \u001b[0mself\u001b[0m\u001b[1;33m[\u001b[0m\u001b[0mname\u001b[0m\u001b[1;33m]\u001b[0m\u001b[1;33m\u001b[0m\u001b[1;33m\u001b[0m\u001b[0m\n\u001b[1;32m-> 5465\u001b[1;33m             \u001b[1;32mreturn\u001b[0m \u001b[0mobject\u001b[0m\u001b[1;33m.\u001b[0m\u001b[0m__getattribute__\u001b[0m\u001b[1;33m(\u001b[0m\u001b[0mself\u001b[0m\u001b[1;33m,\u001b[0m \u001b[0mname\u001b[0m\u001b[1;33m)\u001b[0m\u001b[1;33m\u001b[0m\u001b[1;33m\u001b[0m\u001b[0m\n\u001b[0m\u001b[0;32m   5466\u001b[0m \u001b[1;33m\u001b[0m\u001b[0m\n\u001b[0;32m   5467\u001b[0m     \u001b[1;32mdef\u001b[0m \u001b[0m__setattr__\u001b[0m\u001b[1;33m(\u001b[0m\u001b[0mself\u001b[0m\u001b[1;33m,\u001b[0m \u001b[0mname\u001b[0m\u001b[1;33m:\u001b[0m \u001b[0mstr\u001b[0m\u001b[1;33m,\u001b[0m \u001b[0mvalue\u001b[0m\u001b[1;33m)\u001b[0m \u001b[1;33m->\u001b[0m \u001b[1;32mNone\u001b[0m\u001b[1;33m:\u001b[0m\u001b[1;33m\u001b[0m\u001b[1;33m\u001b[0m\u001b[0m\n",
      "\u001b[1;31mAttributeError\u001b[0m: 'DataFrame' object has no attribute 'to_datetime'"
     ]
    }
   ],
   "metadata": {}
  },
  {
   "cell_type": "code",
   "execution_count": 3,
   "source": [
    "#Grouping and perform count over each group\r\n",
    "armas_medios_emp_num =  rrhh_ds.groupby('armas_medios')['armas_medios'].count()\r\n",
    "print(armas_medios_emp_num)"
   ],
   "outputs": [
    {
     "output_type": "stream",
     "name": "stdout",
     "text": [
      "armas_medios\n",
      "ARMA BLANCA / CORTOPUNZANTE     286\n",
      "ARMA DE FUEGO                   112\n",
      "COMBUSTIBLE                       1\n",
      "CONTUNDENTES                    553\n",
      "JERINGA                           1\n",
      "MOTO                              1\n",
      "NO REPORTADO                      7\n",
      "PERRO                             1\n",
      "POLVORA(FUEGOS PIROTECNICOS)      1\n",
      "PUNZANTES                        37\n",
      "Name: armas_medios, dtype: int64\n"
     ]
    }
   ],
   "metadata": {}
  },
  {
   "cell_type": "code",
   "execution_count": null,
   "source": [],
   "outputs": [],
   "metadata": {}
  }
 ],
 "metadata": {
  "kernelspec": {
   "name": "python3",
   "display_name": "Python 3.9.2 64-bit"
  },
  "language_info": {
   "codemirror_mode": {
    "name": "ipython",
    "version": 3
   },
   "file_extension": ".py",
   "mimetype": "text/x-python",
   "name": "python",
   "nbconvert_exporter": "python",
   "pygments_lexer": "ipython3",
   "version": "3.9.2"
  },
  "interpreter": {
   "hash": "4ce0e62306dd6a5716965d4519ada776f947e6dfc145b604b11307c10277ef29"
  }
 },
 "nbformat": 4,
 "nbformat_minor": 5
}